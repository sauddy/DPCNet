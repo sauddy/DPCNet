{
  "nbformat": 4,
  "nbformat_minor": 0,
  "metadata": {
    "accelerator": "GPU",
    "colab": {
      "name": "DPCNet-V1.ipynb",
      "provenance": [],
      "collapsed_sections": [],
      "toc_visible": true,
      "include_colab_link": true
    },
    "kernelspec": {
      "display_name": "Dev_DPNNET",
      "language": "python",
      "name": "dev_dpnnet"
    },
    "language_info": {
      "codemirror_mode": {
        "name": "ipython",
        "version": 3
      },
      "file_extension": ".py",
      "mimetype": "text/x-python",
      "name": "python",
      "nbconvert_exporter": "python",
      "pygments_lexer": "ipython3",
      "version": "3.7.3"
    }
  },
  "cells": [
    {
      "cell_type": "markdown",
      "metadata": {
        "id": "view-in-github",
        "colab_type": "text"
      },
      "source": [
        "<a href=\"https://colab.research.google.com/github/sauddy/DPCNet/blob/main/DPCNet_V1.ipynb\" target=\"_parent\"><img src=\"https://colab.research.google.com/assets/colab-badge.svg\" alt=\"Open In Colab\"/></a>"
      ]
    },
    {
      "cell_type": "markdown",
      "metadata": {
        "id": "7Av3XMdEU-5_"
      },
      "source": [
        "## DPCNet_Build -- 26 November  2020 Colab Compatible"
      ]
    },
    {
      "cell_type": "code",
      "metadata": {
        "colab": {
          "base_uri": "https://localhost:8080/"
        },
        "id": "QG8TXKEFVeok",
        "outputId": "c2b915e7-4a6a-41a5-e64b-86c6b9e07e59"
      },
      "source": [
        "## Please note this version of the code is compatible with Google colab and will also run on Local Computer ## \n",
        "from google.colab import drive\n",
        "drive.mount('/content/drive')"
      ],
      "execution_count": 1,
      "outputs": [
        {
          "output_type": "stream",
          "text": [
            "Mounted at /content/drive\n"
          ],
          "name": "stdout"
        }
      ]
    },
    {
      "cell_type": "code",
      "metadata": {
        "id": "c3CDNlzfU-6A"
      },
      "source": [
        "                           ##### IDEA Behind this notebook : ###########\n",
        "## Author : Sayantan \n",
        "## Created : 26 November 2020\n",
        "## This notebook is adopted from the CNN_DPNNet V3 and V5\n",
        "## CNN modules, RESNET50, ALEXNET, VGG16 are implemented by Ramit Dey\n",
        "\n",
        "\n",
        "\n",
        "## The primary idea is to develop a modular notebook that does the following:\n",
        "## Import all the customized Modules from Modules_DPCNet \n",
        "## For data processing use data_processing.py\n",
        "## A function module to call the different networks independently. (deep_models.py, other_cnn.py)\n"
      ],
      "execution_count": 2,
      "outputs": []
    },
    {
      "cell_type": "code",
      "metadata": {
        "colab": {
          "base_uri": "https://localhost:8080/"
        },
        "id": "hyZWiknOU-6A",
        "outputId": "7eac0594-bbd8-4f09-c83b-d6bb28795209"
      },
      "source": [
        "# import the necessary packages\n",
        "import matplotlib.pyplot as plt\n",
        "import pandas as pd\n",
        "import numpy as np\n",
        "import glob\n",
        "import cv2\n",
        "import os\n",
        "\n",
        "## Modules to check the performance of the code\n",
        "from time import process_time \n",
        "!pip install memory_profiler ## When running from Google Colab\n",
        "import memory_profiler as mem_profile\n",
        "print('Memory (Before): {}Mb'.format(mem_profile.memory_usage()))\n",
        "\n",
        "\n",
        "## Importing the necessary TesnorFLow modules modules\n",
        "from sklearn.model_selection import train_test_split\n",
        "from tensorflow.keras.optimizers import Adam\n",
        "import tensorflow as tf\n",
        "from tensorflow import keras\n",
        "from tensorflow.keras.layers import concatenate\n",
        "from tensorflow.keras.layers import Dense\n",
        "from tensorflow.keras.models import Model\n",
        "from sklearn.metrics import r2_score ## form calcualting the r2 score\n",
        "\n"
      ],
      "execution_count": 3,
      "outputs": [
        {
          "output_type": "stream",
          "text": [
            "Collecting memory_profiler\n",
            "  Downloading https://files.pythonhosted.org/packages/8f/fd/d92b3295657f8837e0177e7b48b32d6651436f0293af42b76d134c3bb489/memory_profiler-0.58.0.tar.gz\n",
            "Requirement already satisfied: psutil in /usr/local/lib/python3.6/dist-packages (from memory_profiler) (5.4.8)\n",
            "Building wheels for collected packages: memory-profiler\n",
            "  Building wheel for memory-profiler (setup.py) ... \u001b[?25l\u001b[?25hdone\n",
            "  Created wheel for memory-profiler: filename=memory_profiler-0.58.0-cp36-none-any.whl size=30181 sha256=7510d8ba6aa4d5dd9f6b432236f2b72b43a40260992473e1c0fa375f16711767\n",
            "  Stored in directory: /root/.cache/pip/wheels/02/e4/0b/aaab481fc5dd2a4ea59e78bc7231bb6aae7635ca7ee79f8ae5\n",
            "Successfully built memory-profiler\n",
            "Installing collected packages: memory-profiler\n",
            "Successfully installed memory-profiler-0.58.0\n",
            "Memory (Before): [123.48046875]Mb\n"
          ],
          "name": "stdout"
        }
      ]
    },
    {
      "cell_type": "code",
      "metadata": {
        "colab": {
          "base_uri": "https://localhost:8080/"
        },
        "id": "h9468NQc2-Cq",
        "outputId": "890148f3-efdb-459c-fa27-521b7db78159"
      },
      "source": [
        "############ Please provide the same path to the code directory if using Colab################\n",
        "\n",
        "Path_gdrive= '/content/drive/MyDrive/CNN_DPNNET/DPCNET_dev/' ## Comment out this line if using local computer\n",
        "\n",
        "## Importing the Modules from Modules_DPCNet\n",
        "import sys\n",
        "try: ## tries to find the modules in the local directory first\n",
        "  path ='' # For local computer  \n",
        "  sys.path.append(path+'MODULES_DPCNeT')\n",
        "  import data_processing as dp\n",
        "  import deep_models as dm\n",
        "  import other_cnns as ocn\n",
        "\n",
        "  ########### Folders to save the processed data, files and figures when using Local computer ##############\n",
        "  !mkdir -p data_folder\n",
        "  !mkdir -p figures ## to save the figurs\n",
        "  !mkdir -p saved_model\n",
        "  \n",
        "except ModuleNotFoundError:\n",
        "  \n",
        "  # #For Colab use:\n",
        "  # #Point to the path containing the modules in the above section\n",
        "  #(data folder are a directory above the directory containing the notebook)\n",
        "  try:\n",
        "    path =Path_gdrive\n",
        "    print(path)\n",
        "    sys.path.append(path+'MODULES_DPCNeT')\n",
        "    import data_processing as dp\n",
        "    import deep_models as dm\n",
        "    import other_cnns as ocn\n",
        "\n",
        "    ########### Folders to save the processed data, files and figures when using GDRIVE ##############\n",
        "    import os\n",
        "    os.chdir(path)\n",
        "    print(\"Creating the folders\")\n",
        "    !mkdir -p data_folder\n",
        "    !mkdir -p figures ## to save the figurs\n",
        "    !mkdir -p figures_paper\n",
        "    !mkdir -p saved_model\n",
        "  except ModuleNotFoundError:\n",
        "    print(\"The path to the modules is incorrect-- Provide current path\")\n",
        "\n",
        "print(\"[INFO] Modules imported\")\n",
        "\n"
      ],
      "execution_count": 4,
      "outputs": [
        {
          "output_type": "stream",
          "text": [
            "/content/drive/MyDrive/CNN_DPNNET/DPCNET_dev/\n",
            "We are currently using the Modules_DPCNet\n",
            "Creating the folders\n",
            "[INFO] Modules imported\n"
          ],
          "name": "stdout"
        }
      ]
    },
    {
      "cell_type": "code",
      "metadata": {
        "id": "SIBEGqX9hTOE"
      },
      "source": [
        "# ########### Folders to save the process data, files and figures when using GDRIVE ##############\n",
        "\n",
        "# import os\n",
        "# os.chdir(Path_gdrive)\n",
        "# !mkdir -p data_folder\n",
        "# !mkdir -p figures ## to save the figurs\n",
        "# !mkdir -p figures_paper\n",
        "# !mkdir -p saved_model\n",
        "\n",
        "# ########### Folders to save the process data, files and figures when using Local computer ##############\n",
        "# # !mkdir -p data_folder\n",
        "# # !mkdir -p figures ## to save the figurs\n",
        "# # !mkdir -p saved_model"
      ],
      "execution_count": 5,
      "outputs": []
    },
    {
      "cell_type": "markdown",
      "metadata": {
        "id": "ldbzXokMU-6B"
      },
      "source": [
        "## Load data csv (including the path to images) from multiple time-instances"
      ]
    },
    {
      "cell_type": "code",
      "metadata": {
        "colab": {
          "base_uri": "https://localhost:8080/"
        },
        "id": "GJh7NLv7U-6B",
        "outputId": "46668f24-c8b0-4c37-e808-eb234e4597aa"
      },
      "source": [
        "############# Address to the data folder ###################\n",
        "list_of_orbits = ['150','140','130','120']\n",
        "\n",
        "print(\"[INFO]: Importing files from the datafolder\")\n",
        "## Note the data folder are a directory above the code directory\n",
        "folder_address = path + \"../analysis_output_\"\n",
        "# folder_address = \"/content/drive/MyDrive/CNN_DPNNET/analysis_output_\" \n",
        "# The idea is to generate a dataframe with the parameters and the path to the images\n",
        "data_complete = dp.parse_time_series_data(folder_address,list_of_orbits,path)\n",
        "\n",
        "\n"
      ],
      "execution_count": 6,
      "outputs": [
        {
          "output_type": "stream",
          "text": [
            "[INFO]: Importing files from the datafolder\n",
            "[INFO] preparing the dataframe from differnt times...\n",
            "Reading the image paths and data from folder: /content/drive/MyDrive/CNN_DPNNET/DPCNET_dev/../analysis_output_150/\n",
            "Reading the image paths and data from folder: /content/drive/MyDrive/CNN_DPNNET/DPCNET_dev/../analysis_output_140/\n",
            "Reading the image paths and data from folder: /content/drive/MyDrive/CNN_DPNNET/DPCNET_dev/../analysis_output_130/\n",
            "Reading the image paths and data from folder: /content/drive/MyDrive/CNN_DPNNET/DPCNET_dev/../analysis_output_120/\n",
            "[INFO] The concatination of dataframes from differnt times are now complete\n"
          ],
          "name": "stdout"
        }
      ]
    },
    {
      "cell_type": "markdown",
      "metadata": {
        "id": "jDxiZTS9U-6B"
      },
      "source": [
        "## Preparing data "
      ]
    },
    {
      "cell_type": "code",
      "metadata": {
        "colab": {
          "base_uri": "https://localhost:8080/"
        },
        "id": "agTa7GkoU-6B",
        "outputId": "60231831-b5be-47d9-97d9-ef3ea290ed12"
      },
      "source": [
        "## partition the data csv file into training and testing splits using 85% of\n",
        "## the data for training and the remaining 15% for testing\n",
        "split = train_test_split(data_complete, test_size=0.15, random_state=42)\n",
        "(train, test) = split\n",
        "## Save the train and the test data for future use as well.\n",
        "\n",
        "test.to_csv(path+'data_folder/test_dataset.csv')\n",
        "train.to_csv(path+'data_folder/train_dataset.csv')\n",
        "\n",
        "## Generate the Normalized data\n",
        "normed_train_data, normed_test_data, train_labels, test_labels = dp.process_the_disk_attributes(train, test, path)\n",
        "\n",
        "\n",
        "#### Desired Image resoltuion #####\n",
        "X_res = Y_res = 128\n",
        "\n",
        "## Generate the training and the test images \n",
        "\n",
        "trainImagesX = dp.load_disk_images(train, X_res, Y_res, Type = \"Train\")\n",
        "testImagesX = dp.load_disk_images(test, X_res, Y_res, Type = \"Test\")\n",
        "\n",
        "Validation_split = 0.15 # 15 percent of the training data is used for validation\n",
        "print('Memory (After Loading): {}Mb'.format(mem_profile.memory_usage()))\n",
        "print('There are {} Train, {} Validation and {} Test images'.format(int((1-Validation_split)*len(normed_train_data)),int(Validation_split*len(normed_train_data)),len(normed_test_data)))## check the numbers in each chategory\n",
        "\n"
      ],
      "execution_count": 7,
      "outputs": [
        {
          "output_type": "stream",
          "text": [
            "[INFO] preparing the normalized data training/testing split...\n",
            "[INFO] Done...\n",
            "[INFO] Loading images from Train data..\n",
            "Train Images are loaded\n",
            "[INFO] Loading images from Test data..\n",
            "Test Images are loaded\n",
            "Memory (After Loading): [628.59765625]Mb\n",
            "There are 2128 Train, 375 Validation and 442 Test images\n"
          ],
          "name": "stdout"
        }
      ]
    },
    {
      "cell_type": "markdown",
      "metadata": {
        "id": "OYGYS3pgU-6C"
      },
      "source": [
        "## Training the CNN "
      ]
    },
    {
      "cell_type": "code",
      "metadata": {
        "id": "vkIRL4NmU-6C"
      },
      "source": [
        "## Hyper-Parameter to define\n",
        "batch_size = 20 ## the best was for 200 last run\n",
        "valid_batch_size = 20\n",
        "epochs=200 ## best was 100\n",
        "init_lr = 1e-5\n",
        "\n",
        "# early_stop = keras.callbacks.EarlyStopping(monitor='val_loss', patience=10)\n",
        "early_stop = keras.callbacks.EarlyStopping(monitor='val_loss', min_delta=0.2, patience=20, verbose=1, mode='min',restore_best_weights=True)\n",
        "\n"
      ],
      "execution_count": 8,
      "outputs": []
    },
    {
      "cell_type": "code",
      "metadata": {
        "colab": {
          "base_uri": "https://localhost:8080/"
        },
        "id": "5lW02M4WU-6C",
        "outputId": "e632c74a-2f83-4c4b-f0f3-dd26a0bd78b3"
      },
      "source": [
        "## Select the Network type\n",
        "\n",
        "# NETWORK = \"Vanilla\"\n",
        "# NETWORK = \"ALEXNET\"\n",
        "# NETWORK = \"VGG\"\n",
        "NETWORK = \"RESNET50\"\n",
        "\n",
        "print('INFO: Currently training using the {} NETWORK'.format(NETWORK))\n",
        "if NETWORK == \"Vanilla\":\n",
        "    CNN = dm.build_cnn(X_res, Y_res, 3, regress=True)\n",
        "elif NETWORK == \"ALEXNET\":\n",
        "    CNN = ocn.alexnet(X_res, Y_res, 3, regress=True)\n",
        "elif NETWORK == \"VGG\":\n",
        "    CNN = ocn.cnn_vgg(X_res, Y_res, 3, regress=True)\n",
        "elif NETWORK == \"RESNET50\":\n",
        "    CNN = ocn.ResNet50(X_res, Y_res, 3)\n",
        "# optimizer = tf.keras.optimizers.Adam(lr_schedule)\n",
        "optimizer = tf.keras.optimizers.Adam(init_lr, decay=init_lr/2000)\n",
        "CNN.compile(loss='mean_squared_error',\n",
        "            optimizer=optimizer,\n",
        "            metrics=['mean_absolute_error', 'mean_squared_error'])\n",
        "CNN_history = CNN.fit(x=trainImagesX, y=train_labels,\n",
        "                  validation_split = 0.15,epochs=epochs, batch_size=batch_size,callbacks=[early_stop])\n",
        "print('Memory (After Training): {}Mb'.format(mem_profile.memory_usage()))"
      ],
      "execution_count": 9,
      "outputs": [
        {
          "output_type": "stream",
          "text": [
            "INFO: Currently training using the RESNET50 NETWORK\n",
            "Epoch 1/200\n",
            "107/107 [==============================] - 8s 71ms/step - loss: 2438.6128 - mean_absolute_error: 41.1190 - mean_squared_error: 2438.6128 - val_loss: 5801.6660 - val_mean_absolute_error: 70.2159 - val_mean_squared_error: 5801.6660\n",
            "Epoch 2/200\n",
            "107/107 [==============================] - 6s 60ms/step - loss: 791.9426 - mean_absolute_error: 23.7337 - mean_squared_error: 791.9425 - val_loss: 3943.9375 - val_mean_absolute_error: 55.8708 - val_mean_squared_error: 3943.9375\n",
            "Epoch 3/200\n",
            "107/107 [==============================] - 6s 60ms/step - loss: 608.0038 - mean_absolute_error: 20.5485 - mean_squared_error: 608.0038 - val_loss: 1933.6821 - val_mean_absolute_error: 37.4713 - val_mean_squared_error: 1933.6821\n",
            "Epoch 4/200\n",
            "107/107 [==============================] - 6s 60ms/step - loss: 446.5681 - mean_absolute_error: 17.1778 - mean_squared_error: 446.5681 - val_loss: 677.3270 - val_mean_absolute_error: 21.6299 - val_mean_squared_error: 677.3270\n",
            "Epoch 5/200\n",
            "107/107 [==============================] - 6s 60ms/step - loss: 314.4374 - mean_absolute_error: 14.1227 - mean_squared_error: 314.4374 - val_loss: 299.6755 - val_mean_absolute_error: 13.4558 - val_mean_squared_error: 299.6755\n",
            "Epoch 6/200\n",
            "107/107 [==============================] - 6s 60ms/step - loss: 223.9550 - mean_absolute_error: 11.7186 - mean_squared_error: 223.9550 - val_loss: 236.8880 - val_mean_absolute_error: 11.7190 - val_mean_squared_error: 236.8880\n",
            "Epoch 7/200\n",
            "107/107 [==============================] - 6s 61ms/step - loss: 165.6930 - mean_absolute_error: 9.8837 - mean_squared_error: 165.6930 - val_loss: 224.4083 - val_mean_absolute_error: 11.3982 - val_mean_squared_error: 224.4083\n",
            "Epoch 8/200\n",
            "107/107 [==============================] - 7s 61ms/step - loss: 132.6509 - mean_absolute_error: 8.9605 - mean_squared_error: 132.6509 - val_loss: 190.5746 - val_mean_absolute_error: 10.4079 - val_mean_squared_error: 190.5746\n",
            "Epoch 9/200\n",
            "107/107 [==============================] - 7s 61ms/step - loss: 114.4992 - mean_absolute_error: 8.0932 - mean_squared_error: 114.4992 - val_loss: 163.1669 - val_mean_absolute_error: 9.4122 - val_mean_squared_error: 163.1669\n",
            "Epoch 10/200\n",
            "107/107 [==============================] - 7s 61ms/step - loss: 106.8812 - mean_absolute_error: 8.0454 - mean_squared_error: 106.8812 - val_loss: 155.2058 - val_mean_absolute_error: 9.0051 - val_mean_squared_error: 155.2058\n",
            "Epoch 11/200\n",
            "107/107 [==============================] - 7s 62ms/step - loss: 89.3662 - mean_absolute_error: 7.2921 - mean_squared_error: 89.3662 - val_loss: 139.2525 - val_mean_absolute_error: 8.5800 - val_mean_squared_error: 139.2525\n",
            "Epoch 12/200\n",
            "107/107 [==============================] - 7s 62ms/step - loss: 85.6939 - mean_absolute_error: 7.1163 - mean_squared_error: 85.6939 - val_loss: 158.2652 - val_mean_absolute_error: 9.4619 - val_mean_squared_error: 158.2652\n",
            "Epoch 13/200\n",
            "107/107 [==============================] - 7s 62ms/step - loss: 75.9833 - mean_absolute_error: 6.6525 - mean_squared_error: 75.9833 - val_loss: 163.1046 - val_mean_absolute_error: 9.8889 - val_mean_squared_error: 163.1046\n",
            "Epoch 14/200\n",
            "107/107 [==============================] - 7s 63ms/step - loss: 58.7380 - mean_absolute_error: 5.9743 - mean_squared_error: 58.7380 - val_loss: 136.9365 - val_mean_absolute_error: 8.7468 - val_mean_squared_error: 136.9365\n",
            "Epoch 15/200\n",
            "107/107 [==============================] - 7s 63ms/step - loss: 59.9875 - mean_absolute_error: 5.9650 - mean_squared_error: 59.9875 - val_loss: 120.2545 - val_mean_absolute_error: 8.0704 - val_mean_squared_error: 120.2545\n",
            "Epoch 16/200\n",
            "107/107 [==============================] - 7s 63ms/step - loss: 71.0383 - mean_absolute_error: 6.4594 - mean_squared_error: 71.0383 - val_loss: 132.1109 - val_mean_absolute_error: 8.4164 - val_mean_squared_error: 132.1109\n",
            "Epoch 17/200\n",
            "107/107 [==============================] - 7s 63ms/step - loss: 56.9910 - mean_absolute_error: 5.8803 - mean_squared_error: 56.9910 - val_loss: 120.7586 - val_mean_absolute_error: 8.1284 - val_mean_squared_error: 120.7586\n",
            "Epoch 18/200\n",
            "107/107 [==============================] - 7s 63ms/step - loss: 55.1233 - mean_absolute_error: 5.6832 - mean_squared_error: 55.1233 - val_loss: 146.6897 - val_mean_absolute_error: 9.1215 - val_mean_squared_error: 146.6897\n",
            "Epoch 19/200\n",
            "107/107 [==============================] - 7s 63ms/step - loss: 53.3272 - mean_absolute_error: 5.5731 - mean_squared_error: 53.3272 - val_loss: 121.6876 - val_mean_absolute_error: 8.1254 - val_mean_squared_error: 121.6876\n",
            "Epoch 20/200\n",
            "107/107 [==============================] - 7s 64ms/step - loss: 50.5288 - mean_absolute_error: 5.4526 - mean_squared_error: 50.5288 - val_loss: 116.4277 - val_mean_absolute_error: 7.7847 - val_mean_squared_error: 116.4277\n",
            "Epoch 21/200\n",
            "107/107 [==============================] - 7s 64ms/step - loss: 44.2625 - mean_absolute_error: 5.1991 - mean_squared_error: 44.2625 - val_loss: 102.5065 - val_mean_absolute_error: 7.1934 - val_mean_squared_error: 102.5065\n",
            "Epoch 22/200\n",
            "107/107 [==============================] - 7s 63ms/step - loss: 40.0861 - mean_absolute_error: 4.8948 - mean_squared_error: 40.0861 - val_loss: 118.2976 - val_mean_absolute_error: 7.9534 - val_mean_squared_error: 118.2976\n",
            "Epoch 23/200\n",
            "107/107 [==============================] - 7s 62ms/step - loss: 44.6587 - mean_absolute_error: 5.1769 - mean_squared_error: 44.6587 - val_loss: 111.1607 - val_mean_absolute_error: 7.5952 - val_mean_squared_error: 111.1607\n",
            "Epoch 24/200\n",
            "107/107 [==============================] - 7s 64ms/step - loss: 38.2152 - mean_absolute_error: 4.7637 - mean_squared_error: 38.2152 - val_loss: 97.3216 - val_mean_absolute_error: 6.9403 - val_mean_squared_error: 97.3216\n",
            "Epoch 25/200\n",
            "107/107 [==============================] - 7s 63ms/step - loss: 34.9111 - mean_absolute_error: 4.5559 - mean_squared_error: 34.9111 - val_loss: 106.7458 - val_mean_absolute_error: 7.5425 - val_mean_squared_error: 106.7458\n",
            "Epoch 26/200\n",
            "107/107 [==============================] - 7s 63ms/step - loss: 36.8666 - mean_absolute_error: 4.6213 - mean_squared_error: 36.8666 - val_loss: 128.4803 - val_mean_absolute_error: 8.4334 - val_mean_squared_error: 128.4803\n",
            "Epoch 27/200\n",
            "107/107 [==============================] - 7s 63ms/step - loss: 38.6774 - mean_absolute_error: 4.8693 - mean_squared_error: 38.6774 - val_loss: 99.6831 - val_mean_absolute_error: 7.0259 - val_mean_squared_error: 99.6831\n",
            "Epoch 28/200\n",
            "107/107 [==============================] - 7s 64ms/step - loss: 33.6846 - mean_absolute_error: 4.5019 - mean_squared_error: 33.6846 - val_loss: 93.2539 - val_mean_absolute_error: 6.7405 - val_mean_squared_error: 93.2539\n",
            "Epoch 29/200\n",
            "107/107 [==============================] - 7s 64ms/step - loss: 31.3148 - mean_absolute_error: 4.3118 - mean_squared_error: 31.3148 - val_loss: 92.2736 - val_mean_absolute_error: 6.5285 - val_mean_squared_error: 92.2736\n",
            "Epoch 30/200\n",
            "107/107 [==============================] - 7s 63ms/step - loss: 30.5543 - mean_absolute_error: 4.2153 - mean_squared_error: 30.5543 - val_loss: 93.1060 - val_mean_absolute_error: 6.7270 - val_mean_squared_error: 93.1060\n",
            "Epoch 31/200\n",
            "107/107 [==============================] - 7s 63ms/step - loss: 25.6647 - mean_absolute_error: 3.8549 - mean_squared_error: 25.6647 - val_loss: 104.0739 - val_mean_absolute_error: 6.9663 - val_mean_squared_error: 104.0739\n",
            "Epoch 32/200\n",
            "107/107 [==============================] - 7s 63ms/step - loss: 28.7179 - mean_absolute_error: 4.1233 - mean_squared_error: 28.7179 - val_loss: 94.4796 - val_mean_absolute_error: 6.6342 - val_mean_squared_error: 94.4796\n",
            "Epoch 33/200\n",
            "107/107 [==============================] - 7s 63ms/step - loss: 29.1121 - mean_absolute_error: 4.1767 - mean_squared_error: 29.1121 - val_loss: 98.0977 - val_mean_absolute_error: 7.0775 - val_mean_squared_error: 98.0977\n",
            "Epoch 34/200\n",
            "107/107 [==============================] - 7s 63ms/step - loss: 26.4633 - mean_absolute_error: 3.9639 - mean_squared_error: 26.4633 - val_loss: 95.6217 - val_mean_absolute_error: 6.7521 - val_mean_squared_error: 95.6217\n",
            "Epoch 35/200\n",
            "107/107 [==============================] - 7s 64ms/step - loss: 24.2362 - mean_absolute_error: 3.8159 - mean_squared_error: 24.2362 - val_loss: 89.2209 - val_mean_absolute_error: 6.4390 - val_mean_squared_error: 89.2209\n",
            "Epoch 36/200\n",
            "107/107 [==============================] - 7s 64ms/step - loss: 30.1786 - mean_absolute_error: 4.1693 - mean_squared_error: 30.1786 - val_loss: 87.8716 - val_mean_absolute_error: 6.6112 - val_mean_squared_error: 87.8716\n",
            "Epoch 37/200\n",
            "107/107 [==============================] - 7s 63ms/step - loss: 26.8700 - mean_absolute_error: 3.9455 - mean_squared_error: 26.8700 - val_loss: 88.6757 - val_mean_absolute_error: 6.3867 - val_mean_squared_error: 88.6757\n",
            "Epoch 38/200\n",
            "107/107 [==============================] - 7s 63ms/step - loss: 24.1339 - mean_absolute_error: 3.7504 - mean_squared_error: 24.1339 - val_loss: 113.3362 - val_mean_absolute_error: 7.7005 - val_mean_squared_error: 113.3362\n",
            "Epoch 39/200\n",
            "107/107 [==============================] - 7s 63ms/step - loss: 23.8700 - mean_absolute_error: 3.6730 - mean_squared_error: 23.8700 - val_loss: 99.4669 - val_mean_absolute_error: 7.1210 - val_mean_squared_error: 99.4669\n",
            "Epoch 40/200\n",
            "107/107 [==============================] - 7s 64ms/step - loss: 25.3963 - mean_absolute_error: 3.8993 - mean_squared_error: 25.3963 - val_loss: 84.5304 - val_mean_absolute_error: 6.0668 - val_mean_squared_error: 84.5304\n",
            "Epoch 41/200\n",
            "107/107 [==============================] - 7s 63ms/step - loss: 20.8437 - mean_absolute_error: 3.5384 - mean_squared_error: 20.8437 - val_loss: 91.9955 - val_mean_absolute_error: 6.5743 - val_mean_squared_error: 91.9955\n",
            "Epoch 42/200\n",
            "107/107 [==============================] - 7s 63ms/step - loss: 21.6997 - mean_absolute_error: 3.6021 - mean_squared_error: 21.6997 - val_loss: 96.3430 - val_mean_absolute_error: 6.8667 - val_mean_squared_error: 96.3430\n",
            "Epoch 43/200\n",
            "107/107 [==============================] - 7s 63ms/step - loss: 20.7514 - mean_absolute_error: 3.5605 - mean_squared_error: 20.7514 - val_loss: 100.2380 - val_mean_absolute_error: 7.0071 - val_mean_squared_error: 100.2380\n",
            "Epoch 44/200\n",
            "107/107 [==============================] - 7s 63ms/step - loss: 20.8921 - mean_absolute_error: 3.5525 - mean_squared_error: 20.8921 - val_loss: 88.5004 - val_mean_absolute_error: 6.4109 - val_mean_squared_error: 88.5004\n",
            "Epoch 45/200\n",
            "107/107 [==============================] - 7s 63ms/step - loss: 19.9781 - mean_absolute_error: 3.4232 - mean_squared_error: 19.9781 - val_loss: 86.4948 - val_mean_absolute_error: 6.5509 - val_mean_squared_error: 86.4948\n",
            "Epoch 46/200\n",
            "107/107 [==============================] - 7s 64ms/step - loss: 19.0434 - mean_absolute_error: 3.3544 - mean_squared_error: 19.0434 - val_loss: 84.1968 - val_mean_absolute_error: 6.0214 - val_mean_squared_error: 84.1968\n",
            "Epoch 47/200\n",
            "107/107 [==============================] - 7s 63ms/step - loss: 20.0804 - mean_absolute_error: 3.4007 - mean_squared_error: 20.0804 - val_loss: 84.7289 - val_mean_absolute_error: 6.3458 - val_mean_squared_error: 84.7289\n",
            "Epoch 48/200\n",
            "107/107 [==============================] - 7s 64ms/step - loss: 16.8831 - mean_absolute_error: 3.1374 - mean_squared_error: 16.8831 - val_loss: 83.6241 - val_mean_absolute_error: 6.0192 - val_mean_squared_error: 83.6241\n",
            "Epoch 49/200\n",
            "107/107 [==============================] - 7s 63ms/step - loss: 19.4487 - mean_absolute_error: 3.3719 - mean_squared_error: 19.4487 - val_loss: 89.9061 - val_mean_absolute_error: 6.4592 - val_mean_squared_error: 89.9061\n",
            "Epoch 50/200\n",
            "107/107 [==============================] - 7s 64ms/step - loss: 17.4853 - mean_absolute_error: 3.1564 - mean_squared_error: 17.4853 - val_loss: 82.8659 - val_mean_absolute_error: 5.8327 - val_mean_squared_error: 82.8659\n",
            "Epoch 51/200\n",
            "107/107 [==============================] - 7s 64ms/step - loss: 17.7553 - mean_absolute_error: 3.2343 - mean_squared_error: 17.7553 - val_loss: 76.8696 - val_mean_absolute_error: 5.8859 - val_mean_squared_error: 76.8696\n",
            "Epoch 52/200\n",
            "107/107 [==============================] - 7s 64ms/step - loss: 18.5594 - mean_absolute_error: 3.2963 - mean_squared_error: 18.5594 - val_loss: 74.9525 - val_mean_absolute_error: 5.6886 - val_mean_squared_error: 74.9525\n",
            "Epoch 53/200\n",
            "107/107 [==============================] - 7s 63ms/step - loss: 19.6034 - mean_absolute_error: 3.3188 - mean_squared_error: 19.6034 - val_loss: 78.0645 - val_mean_absolute_error: 5.8139 - val_mean_squared_error: 78.0645\n",
            "Epoch 54/200\n",
            "107/107 [==============================] - 7s 63ms/step - loss: 16.0256 - mean_absolute_error: 3.0910 - mean_squared_error: 16.0256 - val_loss: 81.4155 - val_mean_absolute_error: 6.0848 - val_mean_squared_error: 81.4155\n",
            "Epoch 55/200\n",
            "107/107 [==============================] - 7s 63ms/step - loss: 15.0884 - mean_absolute_error: 3.0049 - mean_squared_error: 15.0884 - val_loss: 85.2223 - val_mean_absolute_error: 6.1269 - val_mean_squared_error: 85.2223\n",
            "Epoch 56/200\n",
            "107/107 [==============================] - 7s 63ms/step - loss: 15.3197 - mean_absolute_error: 2.9712 - mean_squared_error: 15.3197 - val_loss: 82.0975 - val_mean_absolute_error: 6.0185 - val_mean_squared_error: 82.0975\n",
            "Epoch 57/200\n",
            "107/107 [==============================] - 7s 63ms/step - loss: 15.8925 - mean_absolute_error: 3.0694 - mean_squared_error: 15.8925 - val_loss: 76.4391 - val_mean_absolute_error: 5.6827 - val_mean_squared_error: 76.4391\n",
            "Epoch 58/200\n",
            "107/107 [==============================] - 7s 63ms/step - loss: 13.9693 - mean_absolute_error: 2.8640 - mean_squared_error: 13.9693 - val_loss: 77.8996 - val_mean_absolute_error: 5.8080 - val_mean_squared_error: 77.8996\n",
            "Epoch 59/200\n",
            "107/107 [==============================] - 7s 63ms/step - loss: 13.9510 - mean_absolute_error: 2.9095 - mean_squared_error: 13.9510 - val_loss: 84.5696 - val_mean_absolute_error: 5.9407 - val_mean_squared_error: 84.5696\n",
            "Epoch 60/200\n",
            "107/107 [==============================] - 7s 63ms/step - loss: 15.1087 - mean_absolute_error: 2.9243 - mean_squared_error: 15.1087 - val_loss: 79.4775 - val_mean_absolute_error: 5.8244 - val_mean_squared_error: 79.4775\n",
            "Epoch 61/200\n",
            "107/107 [==============================] - 7s 63ms/step - loss: 16.3921 - mean_absolute_error: 3.0201 - mean_squared_error: 16.3921 - val_loss: 86.2999 - val_mean_absolute_error: 6.0657 - val_mean_squared_error: 86.2999\n",
            "Epoch 62/200\n",
            "107/107 [==============================] - 7s 64ms/step - loss: 15.5290 - mean_absolute_error: 3.0331 - mean_squared_error: 15.5290 - val_loss: 73.8219 - val_mean_absolute_error: 5.5746 - val_mean_squared_error: 73.8219\n",
            "Epoch 63/200\n",
            "107/107 [==============================] - 7s 64ms/step - loss: 16.4272 - mean_absolute_error: 3.0631 - mean_squared_error: 16.4272 - val_loss: 73.4513 - val_mean_absolute_error: 5.5745 - val_mean_squared_error: 73.4513\n",
            "Epoch 64/200\n",
            "107/107 [==============================] - 7s 63ms/step - loss: 13.9250 - mean_absolute_error: 2.7954 - mean_squared_error: 13.9250 - val_loss: 72.5838 - val_mean_absolute_error: 5.4719 - val_mean_squared_error: 72.5838\n",
            "Epoch 65/200\n",
            "107/107 [==============================] - 7s 63ms/step - loss: 12.8010 - mean_absolute_error: 2.7479 - mean_squared_error: 12.8010 - val_loss: 88.8915 - val_mean_absolute_error: 6.5460 - val_mean_squared_error: 88.8915\n",
            "Epoch 66/200\n",
            "107/107 [==============================] - 7s 63ms/step - loss: 14.3121 - mean_absolute_error: 2.8513 - mean_squared_error: 14.3121 - val_loss: 80.7841 - val_mean_absolute_error: 5.9497 - val_mean_squared_error: 80.7841\n",
            "Epoch 67/200\n",
            "107/107 [==============================] - 7s 63ms/step - loss: 14.3820 - mean_absolute_error: 2.8714 - mean_squared_error: 14.3820 - val_loss: 72.6765 - val_mean_absolute_error: 5.5772 - val_mean_squared_error: 72.6765\n",
            "Epoch 68/200\n",
            "107/107 [==============================] - 7s 63ms/step - loss: 12.5222 - mean_absolute_error: 2.6956 - mean_squared_error: 12.5222 - val_loss: 75.3760 - val_mean_absolute_error: 5.7351 - val_mean_squared_error: 75.3760\n",
            "Epoch 69/200\n",
            "107/107 [==============================] - 7s 64ms/step - loss: 13.0895 - mean_absolute_error: 2.7797 - mean_squared_error: 13.0895 - val_loss: 71.4113 - val_mean_absolute_error: 5.4503 - val_mean_squared_error: 71.4113\n",
            "Epoch 70/200\n",
            "107/107 [==============================] - 7s 63ms/step - loss: 12.7928 - mean_absolute_error: 2.7494 - mean_squared_error: 12.7928 - val_loss: 72.8247 - val_mean_absolute_error: 5.7972 - val_mean_squared_error: 72.8247\n",
            "Epoch 71/200\n",
            "107/107 [==============================] - 7s 63ms/step - loss: 13.9996 - mean_absolute_error: 2.8742 - mean_squared_error: 13.9996 - val_loss: 76.3396 - val_mean_absolute_error: 5.7318 - val_mean_squared_error: 76.3396\n",
            "Epoch 72/200\n",
            "107/107 [==============================] - 7s 63ms/step - loss: 12.2769 - mean_absolute_error: 2.6981 - mean_squared_error: 12.2769 - val_loss: 72.7452 - val_mean_absolute_error: 5.6811 - val_mean_squared_error: 72.7452\n",
            "Epoch 73/200\n",
            "107/107 [==============================] - 7s 63ms/step - loss: 12.8935 - mean_absolute_error: 2.7669 - mean_squared_error: 12.8935 - val_loss: 77.0526 - val_mean_absolute_error: 5.6625 - val_mean_squared_error: 77.0526\n",
            "Epoch 74/200\n",
            "107/107 [==============================] - 7s 63ms/step - loss: 10.9043 - mean_absolute_error: 2.5594 - mean_squared_error: 10.9043 - val_loss: 77.3339 - val_mean_absolute_error: 5.8398 - val_mean_squared_error: 77.3339\n",
            "Epoch 75/200\n",
            "107/107 [==============================] - 7s 63ms/step - loss: 12.8153 - mean_absolute_error: 2.6825 - mean_squared_error: 12.8153 - val_loss: 73.1926 - val_mean_absolute_error: 5.5176 - val_mean_squared_error: 73.1926\n",
            "Epoch 76/200\n",
            "107/107 [==============================] - 7s 64ms/step - loss: 12.7795 - mean_absolute_error: 2.7181 - mean_squared_error: 12.7795 - val_loss: 66.1786 - val_mean_absolute_error: 5.2527 - val_mean_squared_error: 66.1786\n",
            "Epoch 77/200\n",
            "107/107 [==============================] - 7s 63ms/step - loss: 13.3452 - mean_absolute_error: 2.7073 - mean_squared_error: 13.3452 - val_loss: 79.9875 - val_mean_absolute_error: 6.0452 - val_mean_squared_error: 79.9875\n",
            "Epoch 78/200\n",
            "107/107 [==============================] - 7s 63ms/step - loss: 13.9326 - mean_absolute_error: 2.7969 - mean_squared_error: 13.9326 - val_loss: 72.2033 - val_mean_absolute_error: 5.3142 - val_mean_squared_error: 72.2033\n",
            "Epoch 79/200\n",
            "107/107 [==============================] - 7s 63ms/step - loss: 11.1749 - mean_absolute_error: 2.5491 - mean_squared_error: 11.1749 - val_loss: 74.7539 - val_mean_absolute_error: 5.4846 - val_mean_squared_error: 74.7539\n",
            "Epoch 80/200\n",
            "107/107 [==============================] - 7s 63ms/step - loss: 11.3297 - mean_absolute_error: 2.5696 - mean_squared_error: 11.3297 - val_loss: 71.7417 - val_mean_absolute_error: 5.3184 - val_mean_squared_error: 71.7417\n",
            "Epoch 81/200\n",
            "107/107 [==============================] - 7s 63ms/step - loss: 12.8870 - mean_absolute_error: 2.7133 - mean_squared_error: 12.8870 - val_loss: 75.8050 - val_mean_absolute_error: 5.7670 - val_mean_squared_error: 75.8050\n",
            "Epoch 82/200\n",
            "107/107 [==============================] - 7s 63ms/step - loss: 13.2205 - mean_absolute_error: 2.7242 - mean_squared_error: 13.2205 - val_loss: 74.3144 - val_mean_absolute_error: 5.4426 - val_mean_squared_error: 74.3144\n",
            "Epoch 83/200\n",
            "107/107 [==============================] - 7s 63ms/step - loss: 10.2312 - mean_absolute_error: 2.4399 - mean_squared_error: 10.2312 - val_loss: 71.5213 - val_mean_absolute_error: 5.7327 - val_mean_squared_error: 71.5213\n",
            "Epoch 84/200\n",
            "107/107 [==============================] - 7s 63ms/step - loss: 9.0510 - mean_absolute_error: 2.3246 - mean_squared_error: 9.0510 - val_loss: 72.0527 - val_mean_absolute_error: 5.4309 - val_mean_squared_error: 72.0527\n",
            "Epoch 85/200\n",
            "107/107 [==============================] - 7s 63ms/step - loss: 9.3914 - mean_absolute_error: 2.3775 - mean_squared_error: 9.3914 - val_loss: 70.4255 - val_mean_absolute_error: 5.3592 - val_mean_squared_error: 70.4255\n",
            "Epoch 86/200\n",
            "107/107 [==============================] - 7s 63ms/step - loss: 10.5669 - mean_absolute_error: 2.4600 - mean_squared_error: 10.5669 - val_loss: 68.8611 - val_mean_absolute_error: 5.4806 - val_mean_squared_error: 68.8611\n",
            "Epoch 87/200\n",
            "107/107 [==============================] - 7s 63ms/step - loss: 10.2345 - mean_absolute_error: 2.4805 - mean_squared_error: 10.2345 - val_loss: 71.9520 - val_mean_absolute_error: 5.4873 - val_mean_squared_error: 71.9520\n",
            "Epoch 88/200\n",
            "107/107 [==============================] - 7s 63ms/step - loss: 9.7260 - mean_absolute_error: 2.3782 - mean_squared_error: 9.7260 - val_loss: 72.7451 - val_mean_absolute_error: 5.6730 - val_mean_squared_error: 72.7451\n",
            "Epoch 89/200\n",
            "107/107 [==============================] - 7s 63ms/step - loss: 9.0682 - mean_absolute_error: 2.2894 - mean_squared_error: 9.0682 - val_loss: 67.8475 - val_mean_absolute_error: 5.3268 - val_mean_squared_error: 67.8475\n",
            "Epoch 90/200\n",
            "107/107 [==============================] - 7s 63ms/step - loss: 10.8018 - mean_absolute_error: 2.5149 - mean_squared_error: 10.8018 - val_loss: 71.7070 - val_mean_absolute_error: 5.4649 - val_mean_squared_error: 71.7070\n",
            "Epoch 91/200\n",
            "107/107 [==============================] - 7s 63ms/step - loss: 12.3300 - mean_absolute_error: 2.6417 - mean_squared_error: 12.3300 - val_loss: 74.7482 - val_mean_absolute_error: 5.7149 - val_mean_squared_error: 74.7482\n",
            "Epoch 92/200\n",
            "107/107 [==============================] - 7s 63ms/step - loss: 12.2407 - mean_absolute_error: 2.6369 - mean_squared_error: 12.2407 - val_loss: 72.6094 - val_mean_absolute_error: 5.5413 - val_mean_squared_error: 72.6094\n",
            "Epoch 93/200\n",
            "107/107 [==============================] - 7s 63ms/step - loss: 9.3285 - mean_absolute_error: 2.3304 - mean_squared_error: 9.3285 - val_loss: 69.1371 - val_mean_absolute_error: 5.4244 - val_mean_squared_error: 69.1371\n",
            "Epoch 94/200\n",
            "107/107 [==============================] - 7s 63ms/step - loss: 9.0552 - mean_absolute_error: 2.3360 - mean_squared_error: 9.0552 - val_loss: 74.2102 - val_mean_absolute_error: 5.8080 - val_mean_squared_error: 74.2102\n",
            "Epoch 95/200\n",
            "107/107 [==============================] - 7s 63ms/step - loss: 8.7466 - mean_absolute_error: 2.2870 - mean_squared_error: 8.7466 - val_loss: 68.7213 - val_mean_absolute_error: 5.2114 - val_mean_squared_error: 68.7213\n",
            "Epoch 96/200\n",
            "106/107 [============================>.] - ETA: 0s - loss: 10.5759 - mean_absolute_error: 2.4119 - mean_squared_error: 10.5759Restoring model weights from the end of the best epoch.\n",
            "107/107 [==============================] - 7s 64ms/step - loss: 10.5465 - mean_absolute_error: 2.4086 - mean_squared_error: 10.5465 - val_loss: 67.7646 - val_mean_absolute_error: 5.4128 - val_mean_squared_error: 67.7646\n",
            "Epoch 00096: early stopping\n",
            "Memory (After Training): [3032.9140625]Mb\n"
          ],
          "name": "stdout"
        }
      ]
    },
    {
      "cell_type": "code",
      "metadata": {
        "id": "8m9VZnHrU-6C",
        "outputId": "0cc23dff-7afd-482d-a5d5-2fc53faca8a9",
        "colab": {
          "base_uri": "https://localhost:8080/",
          "height": 731
        }
      },
      "source": [
        "## The plots for the Validation and the Testing loss\n",
        "dp.plot_history(CNN_history,path, Model = \"CNN\")\n",
        "hist_df = pd.DataFrame(CNN_history.history)  ## converting to dataframe\n",
        "## Saving the history\n",
        "hist_df.to_csv(path+'data_folder/'+NETWORK+'_history.csv')"
      ],
      "execution_count": 10,
      "outputs": [
        {
          "output_type": "stream",
          "text": [
            "/content/drive/MyDrive/CNN_DPNNET/DPCNET_dev/figures\n"
          ],
          "name": "stdout"
        },
        {
          "output_type": "display_data",
          "data": {
            "image/png": "[encoded data removed]",
            "text/plain": [
              "<Figure size 360x360 with 1 Axes>"
            ]
          },
          "metadata": {
            "tags": [],
            "needs_background": "light"
          }
        },
        {
          "output_type": "display_data",
          "data": {
            "image/png": "[encoded data removed]",
            "text/plain": [
              "<Figure size 360x360 with 1 Axes>"
            ]
          },
          "metadata": {
            "tags": [],
            "needs_background": "light"
          }
        }
      ]
    },
    {
      "cell_type": "markdown",
      "metadata": {
        "id": "LTSZux-jU-6C"
      },
      "source": [
        "## Saving the network for future use"
      ]
    },
    {
      "cell_type": "code",
      "metadata": {
        "id": "wYKEICYsU-6C",
        "outputId": "d79fe9f2-a273-469c-909e-34af5516ada2",
        "colab": {
          "base_uri": "https://localhost:8080/"
        }
      },
      "source": [
        "## uncomment the following lines if you want to update your model\n",
        "CNN.save(path+'saved_model/'+NETWORK+'_model')\n"
      ],
      "execution_count": 11,
      "outputs": [
        {
          "output_type": "stream",
          "text": [
            "WARNING:tensorflow:From /usr/local/lib/python3.6/dist-packages/tensorflow/python/training/tracking/tracking.py:111: Model.state_updates (from tensorflow.python.keras.engine.training) is deprecated and will be removed in a future version.\n",
            "Instructions for updating:\n",
            "This property should not be used in TensorFlow 2.0, as updates are applied automatically.\n",
            "WARNING:tensorflow:From /usr/local/lib/python3.6/dist-packages/tensorflow/python/training/tracking/tracking.py:111: Layer.updates (from tensorflow.python.keras.engine.base_layer) is deprecated and will be removed in a future version.\n",
            "Instructions for updating:\n",
            "This property should not be used in TensorFlow 2.0, as updates are applied automatically.\n",
            "INFO:tensorflow:Assets written to: /content/drive/MyDrive/CNN_DPNNET/DPCNET_dev/saved_model/RESNET50_model/assets\n"
          ],
          "name": "stdout"
        }
      ]
    },
    {
      "cell_type": "code",
      "metadata": {
        "id": "HBFZbKbLU-6D",
        "outputId": "5f1006b8-2de0-4ddd-cd5f-28b7a4868dea",
        "colab": {
          "base_uri": "https://localhost:8080/"
        }
      },
      "source": [
        "## Loading the model\n",
        "CNN = tf.keras.models.load_model(path+'saved_model/'+NETWORK+'_model')\n",
        "##Check its architecture\n",
        "CNN.summary()"
      ],
      "execution_count": 12,
      "outputs": [
        {
          "output_type": "stream",
          "text": [
            "Model: \"functional_1\"\n",
            "__________________________________________________________________________________________________\n",
            "Layer (type)                    Output Shape         Param #     Connected to                     \n",
            "==================================================================================================\n",
            "input_1 (InputLayer)            [(None, 128, 128, 3) 0                                            \n",
            "__________________________________________________________________________________________________\n",
            "zero_padding2d (ZeroPadding2D)  (None, 134, 134, 3)  0           input_1[0][0]                    \n",
            "__________________________________________________________________________________________________\n",
            "conv1 (Conv2D)                  (None, 128, 128, 32) 4736        zero_padding2d[0][0]             \n",
            "__________________________________________________________________________________________________\n",
            "bn_conv1 (BatchNormalization)   (None, 128, 128, 32) 128         conv1[0][0]                      \n",
            "__________________________________________________________________________________________________\n",
            "activation (Activation)         (None, 128, 128, 32) 0           bn_conv1[0][0]                   \n",
            "__________________________________________________________________________________________________\n",
            "max_pooling2d (MaxPooling2D)    (None, 42, 42, 32)   0           activation[0][0]                 \n",
            "__________________________________________________________________________________________________\n",
            "res2a_branch2a (Conv2D)         (None, 42, 42, 32)   1056        max_pooling2d[0][0]              \n",
            "__________________________________________________________________________________________________\n",
            "bn2a_branch2a (BatchNormalizati (None, 42, 42, 32)   128         res2a_branch2a[0][0]             \n",
            "__________________________________________________________________________________________________\n",
            "activation_1 (Activation)       (None, 42, 42, 32)   0           bn2a_branch2a[0][0]              \n",
            "__________________________________________________________________________________________________\n",
            "res2a_branch2b (Conv2D)         (None, 42, 42, 32)   9248        activation_1[0][0]               \n",
            "__________________________________________________________________________________________________\n",
            "bn2a_branch2b (BatchNormalizati (None, 42, 42, 32)   128         res2a_branch2b[0][0]             \n",
            "__________________________________________________________________________________________________\n",
            "activation_2 (Activation)       (None, 42, 42, 32)   0           bn2a_branch2b[0][0]              \n",
            "__________________________________________________________________________________________________\n",
            "res2a_branch2c (Conv2D)         (None, 42, 42, 128)  4224        activation_2[0][0]               \n",
            "__________________________________________________________________________________________________\n",
            "res2a_branch1 (Conv2D)          (None, 42, 42, 128)  4224        max_pooling2d[0][0]              \n",
            "__________________________________________________________________________________________________\n",
            "bn2a_branch2c (BatchNormalizati (None, 42, 42, 128)  512         res2a_branch2c[0][0]             \n",
            "__________________________________________________________________________________________________\n",
            "bn2a_branch1 (BatchNormalizatio (None, 42, 42, 128)  512         res2a_branch1[0][0]              \n",
            "__________________________________________________________________________________________________\n",
            "add (Add)                       (None, 42, 42, 128)  0           bn2a_branch2c[0][0]              \n",
            "                                                                 bn2a_branch1[0][0]               \n",
            "__________________________________________________________________________________________________\n",
            "activation_3 (Activation)       (None, 42, 42, 128)  0           add[0][0]                        \n",
            "__________________________________________________________________________________________________\n",
            "res2b_branch2a (Conv2D)         (None, 42, 42, 32)   4128        activation_3[0][0]               \n",
            "__________________________________________________________________________________________________\n",
            "bn2b_branch2a (BatchNormalizati (None, 42, 42, 32)   128         res2b_branch2a[0][0]             \n",
            "__________________________________________________________________________________________________\n",
            "activation_4 (Activation)       (None, 42, 42, 32)   0           bn2b_branch2a[0][0]              \n",
            "__________________________________________________________________________________________________\n",
            "res2b_branch2b (Conv2D)         (None, 42, 42, 32)   9248        activation_4[0][0]               \n",
            "__________________________________________________________________________________________________\n",
            "bn2b_branch2b (BatchNormalizati (None, 42, 42, 32)   128         res2b_branch2b[0][0]             \n",
            "__________________________________________________________________________________________________\n",
            "activation_5 (Activation)       (None, 42, 42, 32)   0           bn2b_branch2b[0][0]              \n",
            "__________________________________________________________________________________________________\n",
            "res2b_branch2c (Conv2D)         (None, 42, 42, 128)  4224        activation_5[0][0]               \n",
            "__________________________________________________________________________________________________\n",
            "bn2b_branch2c (BatchNormalizati (None, 42, 42, 128)  512         res2b_branch2c[0][0]             \n",
            "__________________________________________________________________________________________________\n",
            "add_1 (Add)                     (None, 42, 42, 128)  0           bn2b_branch2c[0][0]              \n",
            "                                                                 activation_3[0][0]               \n",
            "__________________________________________________________________________________________________\n",
            "activation_6 (Activation)       (None, 42, 42, 128)  0           add_1[0][0]                      \n",
            "__________________________________________________________________________________________________\n",
            "res2c_branch2a (Conv2D)         (None, 42, 42, 32)   4128        activation_6[0][0]               \n",
            "__________________________________________________________________________________________________\n",
            "bn2c_branch2a (BatchNormalizati (None, 42, 42, 32)   128         res2c_branch2a[0][0]             \n",
            "__________________________________________________________________________________________________\n",
            "activation_7 (Activation)       (None, 42, 42, 32)   0           bn2c_branch2a[0][0]              \n",
            "__________________________________________________________________________________________________\n",
            "res2c_branch2b (Conv2D)         (None, 42, 42, 32)   9248        activation_7[0][0]               \n",
            "__________________________________________________________________________________________________\n",
            "bn2c_branch2b (BatchNormalizati (None, 42, 42, 32)   128         res2c_branch2b[0][0]             \n",
            "__________________________________________________________________________________________________\n",
            "activation_8 (Activation)       (None, 42, 42, 32)   0           bn2c_branch2b[0][0]              \n",
            "__________________________________________________________________________________________________\n",
            "res2c_branch2c (Conv2D)         (None, 42, 42, 128)  4224        activation_8[0][0]               \n",
            "__________________________________________________________________________________________________\n",
            "bn2c_branch2c (BatchNormalizati (None, 42, 42, 128)  512         res2c_branch2c[0][0]             \n",
            "__________________________________________________________________________________________________\n",
            "add_2 (Add)                     (None, 42, 42, 128)  0           bn2c_branch2c[0][0]              \n",
            "                                                                 activation_6[0][0]               \n",
            "__________________________________________________________________________________________________\n",
            "activation_9 (Activation)       (None, 42, 42, 128)  0           add_2[0][0]                      \n",
            "__________________________________________________________________________________________________\n",
            "res3a_branch2a (Conv2D)         (None, 21, 21, 64)   8256        activation_9[0][0]               \n",
            "__________________________________________________________________________________________________\n",
            "bn3a_branch2a (BatchNormalizati (None, 21, 21, 64)   256         res3a_branch2a[0][0]             \n",
            "__________________________________________________________________________________________________\n",
            "activation_10 (Activation)      (None, 21, 21, 64)   0           bn3a_branch2a[0][0]              \n",
            "__________________________________________________________________________________________________\n",
            "res3a_branch2b (Conv2D)         (None, 21, 21, 64)   36928       activation_10[0][0]              \n",
            "__________________________________________________________________________________________________\n",
            "bn3a_branch2b (BatchNormalizati (None, 21, 21, 64)   256         res3a_branch2b[0][0]             \n",
            "__________________________________________________________________________________________________\n",
            "activation_11 (Activation)      (None, 21, 21, 64)   0           bn3a_branch2b[0][0]              \n",
            "__________________________________________________________________________________________________\n",
            "res3a_branch2c (Conv2D)         (None, 21, 21, 256)  16640       activation_11[0][0]              \n",
            "__________________________________________________________________________________________________\n",
            "res3a_branch1 (Conv2D)          (None, 21, 21, 256)  33024       activation_9[0][0]               \n",
            "__________________________________________________________________________________________________\n",
            "bn3a_branch2c (BatchNormalizati (None, 21, 21, 256)  1024        res3a_branch2c[0][0]             \n",
            "__________________________________________________________________________________________________\n",
            "bn3a_branch1 (BatchNormalizatio (None, 21, 21, 256)  1024        res3a_branch1[0][0]              \n",
            "__________________________________________________________________________________________________\n",
            "add_3 (Add)                     (None, 21, 21, 256)  0           bn3a_branch2c[0][0]              \n",
            "                                                                 bn3a_branch1[0][0]               \n",
            "__________________________________________________________________________________________________\n",
            "activation_12 (Activation)      (None, 21, 21, 256)  0           add_3[0][0]                      \n",
            "__________________________________________________________________________________________________\n",
            "res3b_branch2a (Conv2D)         (None, 21, 21, 64)   16448       activation_12[0][0]              \n",
            "__________________________________________________________________________________________________\n",
            "bn3b_branch2a (BatchNormalizati (None, 21, 21, 64)   256         res3b_branch2a[0][0]             \n",
            "__________________________________________________________________________________________________\n",
            "activation_13 (Activation)      (None, 21, 21, 64)   0           bn3b_branch2a[0][0]              \n",
            "__________________________________________________________________________________________________\n",
            "res3b_branch2b (Conv2D)         (None, 21, 21, 64)   36928       activation_13[0][0]              \n",
            "__________________________________________________________________________________________________\n",
            "bn3b_branch2b (BatchNormalizati (None, 21, 21, 64)   256         res3b_branch2b[0][0]             \n",
            "__________________________________________________________________________________________________\n",
            "activation_14 (Activation)      (None, 21, 21, 64)   0           bn3b_branch2b[0][0]              \n",
            "__________________________________________________________________________________________________\n",
            "res3b_branch2c (Conv2D)         (None, 21, 21, 256)  16640       activation_14[0][0]              \n",
            "__________________________________________________________________________________________________\n",
            "bn3b_branch2c (BatchNormalizati (None, 21, 21, 256)  1024        res3b_branch2c[0][0]             \n",
            "__________________________________________________________________________________________________\n",
            "add_4 (Add)                     (None, 21, 21, 256)  0           bn3b_branch2c[0][0]              \n",
            "                                                                 activation_12[0][0]              \n",
            "__________________________________________________________________________________________________\n",
            "activation_15 (Activation)      (None, 21, 21, 256)  0           add_4[0][0]                      \n",
            "__________________________________________________________________________________________________\n",
            "res3c_branch2a (Conv2D)         (None, 21, 21, 64)   16448       activation_15[0][0]              \n",
            "__________________________________________________________________________________________________\n",
            "bn3c_branch2a (BatchNormalizati (None, 21, 21, 64)   256         res3c_branch2a[0][0]             \n",
            "__________________________________________________________________________________________________\n",
            "activation_16 (Activation)      (None, 21, 21, 64)   0           bn3c_branch2a[0][0]              \n",
            "__________________________________________________________________________________________________\n",
            "res3c_branch2b (Conv2D)         (None, 21, 21, 64)   36928       activation_16[0][0]              \n",
            "__________________________________________________________________________________________________\n",
            "bn3c_branch2b (BatchNormalizati (None, 21, 21, 64)   256         res3c_branch2b[0][0]             \n",
            "__________________________________________________________________________________________________\n",
            "activation_17 (Activation)      (None, 21, 21, 64)   0           bn3c_branch2b[0][0]              \n",
            "__________________________________________________________________________________________________\n",
            "res3c_branch2c (Conv2D)         (None, 21, 21, 256)  16640       activation_17[0][0]              \n",
            "__________________________________________________________________________________________________\n",
            "bn3c_branch2c (BatchNormalizati (None, 21, 21, 256)  1024        res3c_branch2c[0][0]             \n",
            "__________________________________________________________________________________________________\n",
            "add_5 (Add)                     (None, 21, 21, 256)  0           bn3c_branch2c[0][0]              \n",
            "                                                                 activation_15[0][0]              \n",
            "__________________________________________________________________________________________________\n",
            "activation_18 (Activation)      (None, 21, 21, 256)  0           add_5[0][0]                      \n",
            "__________________________________________________________________________________________________\n",
            "res3d_branch2a (Conv2D)         (None, 21, 21, 64)   16448       activation_18[0][0]              \n",
            "__________________________________________________________________________________________________\n",
            "bn3d_branch2a (BatchNormalizati (None, 21, 21, 64)   256         res3d_branch2a[0][0]             \n",
            "__________________________________________________________________________________________________\n",
            "activation_19 (Activation)      (None, 21, 21, 64)   0           bn3d_branch2a[0][0]              \n",
            "__________________________________________________________________________________________________\n",
            "res3d_branch2b (Conv2D)         (None, 21, 21, 64)   36928       activation_19[0][0]              \n",
            "__________________________________________________________________________________________________\n",
            "bn3d_branch2b (BatchNormalizati (None, 21, 21, 64)   256         res3d_branch2b[0][0]             \n",
            "__________________________________________________________________________________________________\n",
            "activation_20 (Activation)      (None, 21, 21, 64)   0           bn3d_branch2b[0][0]              \n",
            "__________________________________________________________________________________________________\n",
            "res3d_branch2c (Conv2D)         (None, 21, 21, 256)  16640       activation_20[0][0]              \n",
            "__________________________________________________________________________________________________\n",
            "bn3d_branch2c (BatchNormalizati (None, 21, 21, 256)  1024        res3d_branch2c[0][0]             \n",
            "__________________________________________________________________________________________________\n",
            "add_6 (Add)                     (None, 21, 21, 256)  0           bn3d_branch2c[0][0]              \n",
            "                                                                 activation_18[0][0]              \n",
            "__________________________________________________________________________________________________\n",
            "activation_21 (Activation)      (None, 21, 21, 256)  0           add_6[0][0]                      \n",
            "__________________________________________________________________________________________________\n",
            "res4a_branch2a (Conv2D)         (None, 11, 11, 128)  32896       activation_21[0][0]              \n",
            "__________________________________________________________________________________________________\n",
            "bn4a_branch2a (BatchNormalizati (None, 11, 11, 128)  512         res4a_branch2a[0][0]             \n",
            "__________________________________________________________________________________________________\n",
            "activation_22 (Activation)      (None, 11, 11, 128)  0           bn4a_branch2a[0][0]              \n",
            "__________________________________________________________________________________________________\n",
            "res4a_branch2b (Conv2D)         (None, 11, 11, 128)  147584      activation_22[0][0]              \n",
            "__________________________________________________________________________________________________\n",
            "bn4a_branch2b (BatchNormalizati (None, 11, 11, 128)  512         res4a_branch2b[0][0]             \n",
            "__________________________________________________________________________________________________\n",
            "activation_23 (Activation)      (None, 11, 11, 128)  0           bn4a_branch2b[0][0]              \n",
            "__________________________________________________________________________________________________\n",
            "res4a_branch2c (Conv2D)         (None, 11, 11, 512)  66048       activation_23[0][0]              \n",
            "__________________________________________________________________________________________________\n",
            "res4a_branch1 (Conv2D)          (None, 11, 11, 512)  131584      activation_21[0][0]              \n",
            "__________________________________________________________________________________________________\n",
            "bn4a_branch2c (BatchNormalizati (None, 11, 11, 512)  2048        res4a_branch2c[0][0]             \n",
            "__________________________________________________________________________________________________\n",
            "bn4a_branch1 (BatchNormalizatio (None, 11, 11, 512)  2048        res4a_branch1[0][0]              \n",
            "__________________________________________________________________________________________________\n",
            "add_7 (Add)                     (None, 11, 11, 512)  0           bn4a_branch2c[0][0]              \n",
            "                                                                 bn4a_branch1[0][0]               \n",
            "__________________________________________________________________________________________________\n",
            "activation_24 (Activation)      (None, 11, 11, 512)  0           add_7[0][0]                      \n",
            "__________________________________________________________________________________________________\n",
            "res4b_branch2a (Conv2D)         (None, 11, 11, 128)  65664       activation_24[0][0]              \n",
            "__________________________________________________________________________________________________\n",
            "bn4b_branch2a (BatchNormalizati (None, 11, 11, 128)  512         res4b_branch2a[0][0]             \n",
            "__________________________________________________________________________________________________\n",
            "activation_25 (Activation)      (None, 11, 11, 128)  0           bn4b_branch2a[0][0]              \n",
            "__________________________________________________________________________________________________\n",
            "res4b_branch2b (Conv2D)         (None, 11, 11, 128)  147584      activation_25[0][0]              \n",
            "__________________________________________________________________________________________________\n",
            "bn4b_branch2b (BatchNormalizati (None, 11, 11, 128)  512         res4b_branch2b[0][0]             \n",
            "__________________________________________________________________________________________________\n",
            "activation_26 (Activation)      (None, 11, 11, 128)  0           bn4b_branch2b[0][0]              \n",
            "__________________________________________________________________________________________________\n",
            "res4b_branch2c (Conv2D)         (None, 11, 11, 512)  66048       activation_26[0][0]              \n",
            "__________________________________________________________________________________________________\n",
            "bn4b_branch2c (BatchNormalizati (None, 11, 11, 512)  2048        res4b_branch2c[0][0]             \n",
            "__________________________________________________________________________________________________\n",
            "add_8 (Add)                     (None, 11, 11, 512)  0           bn4b_branch2c[0][0]              \n",
            "                                                                 activation_24[0][0]              \n",
            "__________________________________________________________________________________________________\n",
            "activation_27 (Activation)      (None, 11, 11, 512)  0           add_8[0][0]                      \n",
            "__________________________________________________________________________________________________\n",
            "res4c_branch2a (Conv2D)         (None, 11, 11, 128)  65664       activation_27[0][0]              \n",
            "__________________________________________________________________________________________________\n",
            "bn4c_branch2a (BatchNormalizati (None, 11, 11, 128)  512         res4c_branch2a[0][0]             \n",
            "__________________________________________________________________________________________________\n",
            "activation_28 (Activation)      (None, 11, 11, 128)  0           bn4c_branch2a[0][0]              \n",
            "__________________________________________________________________________________________________\n",
            "res4c_branch2b (Conv2D)         (None, 11, 11, 128)  147584      activation_28[0][0]              \n",
            "__________________________________________________________________________________________________\n",
            "bn4c_branch2b (BatchNormalizati (None, 11, 11, 128)  512         res4c_branch2b[0][0]             \n",
            "__________________________________________________________________________________________________\n",
            "activation_29 (Activation)      (None, 11, 11, 128)  0           bn4c_branch2b[0][0]              \n",
            "__________________________________________________________________________________________________\n",
            "res4c_branch2c (Conv2D)         (None, 11, 11, 512)  66048       activation_29[0][0]              \n",
            "__________________________________________________________________________________________________\n",
            "bn4c_branch2c (BatchNormalizati (None, 11, 11, 512)  2048        res4c_branch2c[0][0]             \n",
            "__________________________________________________________________________________________________\n",
            "add_9 (Add)                     (None, 11, 11, 512)  0           bn4c_branch2c[0][0]              \n",
            "                                                                 activation_27[0][0]              \n",
            "__________________________________________________________________________________________________\n",
            "activation_30 (Activation)      (None, 11, 11, 512)  0           add_9[0][0]                      \n",
            "__________________________________________________________________________________________________\n",
            "res4d_branch2a (Conv2D)         (None, 11, 11, 128)  65664       activation_30[0][0]              \n",
            "__________________________________________________________________________________________________\n",
            "bn4d_branch2a (BatchNormalizati (None, 11, 11, 128)  512         res4d_branch2a[0][0]             \n",
            "__________________________________________________________________________________________________\n",
            "activation_31 (Activation)      (None, 11, 11, 128)  0           bn4d_branch2a[0][0]              \n",
            "__________________________________________________________________________________________________\n",
            "res4d_branch2b (Conv2D)         (None, 11, 11, 128)  147584      activation_31[0][0]              \n",
            "__________________________________________________________________________________________________\n",
            "bn4d_branch2b (BatchNormalizati (None, 11, 11, 128)  512         res4d_branch2b[0][0]             \n",
            "__________________________________________________________________________________________________\n",
            "activation_32 (Activation)      (None, 11, 11, 128)  0           bn4d_branch2b[0][0]              \n",
            "__________________________________________________________________________________________________\n",
            "res4d_branch2c (Conv2D)         (None, 11, 11, 512)  66048       activation_32[0][0]              \n",
            "__________________________________________________________________________________________________\n",
            "bn4d_branch2c (BatchNormalizati (None, 11, 11, 512)  2048        res4d_branch2c[0][0]             \n",
            "__________________________________________________________________________________________________\n",
            "add_10 (Add)                    (None, 11, 11, 512)  0           bn4d_branch2c[0][0]              \n",
            "                                                                 activation_30[0][0]              \n",
            "__________________________________________________________________________________________________\n",
            "activation_33 (Activation)      (None, 11, 11, 512)  0           add_10[0][0]                     \n",
            "__________________________________________________________________________________________________\n",
            "res4e_branch2a (Conv2D)         (None, 11, 11, 128)  65664       activation_33[0][0]              \n",
            "__________________________________________________________________________________________________\n",
            "bn4e_branch2a (BatchNormalizati (None, 11, 11, 128)  512         res4e_branch2a[0][0]             \n",
            "__________________________________________________________________________________________________\n",
            "activation_34 (Activation)      (None, 11, 11, 128)  0           bn4e_branch2a[0][0]              \n",
            "__________________________________________________________________________________________________\n",
            "res4e_branch2b (Conv2D)         (None, 11, 11, 128)  147584      activation_34[0][0]              \n",
            "__________________________________________________________________________________________________\n",
            "bn4e_branch2b (BatchNormalizati (None, 11, 11, 128)  512         res4e_branch2b[0][0]             \n",
            "__________________________________________________________________________________________________\n",
            "activation_35 (Activation)      (None, 11, 11, 128)  0           bn4e_branch2b[0][0]              \n",
            "__________________________________________________________________________________________________\n",
            "res4e_branch2c (Conv2D)         (None, 11, 11, 512)  66048       activation_35[0][0]              \n",
            "__________________________________________________________________________________________________\n",
            "bn4e_branch2c (BatchNormalizati (None, 11, 11, 512)  2048        res4e_branch2c[0][0]             \n",
            "__________________________________________________________________________________________________\n",
            "add_11 (Add)                    (None, 11, 11, 512)  0           bn4e_branch2c[0][0]              \n",
            "                                                                 activation_33[0][0]              \n",
            "__________________________________________________________________________________________________\n",
            "activation_36 (Activation)      (None, 11, 11, 512)  0           add_11[0][0]                     \n",
            "__________________________________________________________________________________________________\n",
            "res4f_branch2a (Conv2D)         (None, 11, 11, 128)  65664       activation_36[0][0]              \n",
            "__________________________________________________________________________________________________\n",
            "bn4f_branch2a (BatchNormalizati (None, 11, 11, 128)  512         res4f_branch2a[0][0]             \n",
            "__________________________________________________________________________________________________\n",
            "activation_37 (Activation)      (None, 11, 11, 128)  0           bn4f_branch2a[0][0]              \n",
            "__________________________________________________________________________________________________\n",
            "res4f_branch2b (Conv2D)         (None, 11, 11, 128)  147584      activation_37[0][0]              \n",
            "__________________________________________________________________________________________________\n",
            "bn4f_branch2b (BatchNormalizati (None, 11, 11, 128)  512         res4f_branch2b[0][0]             \n",
            "__________________________________________________________________________________________________\n",
            "activation_38 (Activation)      (None, 11, 11, 128)  0           bn4f_branch2b[0][0]              \n",
            "__________________________________________________________________________________________________\n",
            "res4f_branch2c (Conv2D)         (None, 11, 11, 512)  66048       activation_38[0][0]              \n",
            "__________________________________________________________________________________________________\n",
            "bn4f_branch2c (BatchNormalizati (None, 11, 11, 512)  2048        res4f_branch2c[0][0]             \n",
            "__________________________________________________________________________________________________\n",
            "add_12 (Add)                    (None, 11, 11, 512)  0           bn4f_branch2c[0][0]              \n",
            "                                                                 activation_36[0][0]              \n",
            "__________________________________________________________________________________________________\n",
            "activation_39 (Activation)      (None, 11, 11, 512)  0           add_12[0][0]                     \n",
            "__________________________________________________________________________________________________\n",
            "res5a_branch2a (Conv2D)         (None, 6, 6, 256)    131328      activation_39[0][0]              \n",
            "__________________________________________________________________________________________________\n",
            "bn5a_branch2a (BatchNormalizati (None, 6, 6, 256)    1024        res5a_branch2a[0][0]             \n",
            "__________________________________________________________________________________________________\n",
            "activation_40 (Activation)      (None, 6, 6, 256)    0           bn5a_branch2a[0][0]              \n",
            "__________________________________________________________________________________________________\n",
            "res5a_branch2b (Conv2D)         (None, 6, 6, 256)    590080      activation_40[0][0]              \n",
            "__________________________________________________________________________________________________\n",
            "bn5a_branch2b (BatchNormalizati (None, 6, 6, 256)    1024        res5a_branch2b[0][0]             \n",
            "__________________________________________________________________________________________________\n",
            "activation_41 (Activation)      (None, 6, 6, 256)    0           bn5a_branch2b[0][0]              \n",
            "__________________________________________________________________________________________________\n",
            "res5a_branch2c (Conv2D)         (None, 6, 6, 1024)   263168      activation_41[0][0]              \n",
            "__________________________________________________________________________________________________\n",
            "res5a_branch1 (Conv2D)          (None, 6, 6, 1024)   525312      activation_39[0][0]              \n",
            "__________________________________________________________________________________________________\n",
            "bn5a_branch2c (BatchNormalizati (None, 6, 6, 1024)   4096        res5a_branch2c[0][0]             \n",
            "__________________________________________________________________________________________________\n",
            "bn5a_branch1 (BatchNormalizatio (None, 6, 6, 1024)   4096        res5a_branch1[0][0]              \n",
            "__________________________________________________________________________________________________\n",
            "add_13 (Add)                    (None, 6, 6, 1024)   0           bn5a_branch2c[0][0]              \n",
            "                                                                 bn5a_branch1[0][0]               \n",
            "__________________________________________________________________________________________________\n",
            "activation_42 (Activation)      (None, 6, 6, 1024)   0           add_13[0][0]                     \n",
            "__________________________________________________________________________________________________\n",
            "res5b_branch2a (Conv2D)         (None, 6, 6, 256)    262400      activation_42[0][0]              \n",
            "__________________________________________________________________________________________________\n",
            "bn5b_branch2a (BatchNormalizati (None, 6, 6, 256)    1024        res5b_branch2a[0][0]             \n",
            "__________________________________________________________________________________________________\n",
            "activation_43 (Activation)      (None, 6, 6, 256)    0           bn5b_branch2a[0][0]              \n",
            "__________________________________________________________________________________________________\n",
            "res5b_branch2b (Conv2D)         (None, 6, 6, 256)    590080      activation_43[0][0]              \n",
            "__________________________________________________________________________________________________\n",
            "bn5b_branch2b (BatchNormalizati (None, 6, 6, 256)    1024        res5b_branch2b[0][0]             \n",
            "__________________________________________________________________________________________________\n",
            "activation_44 (Activation)      (None, 6, 6, 256)    0           bn5b_branch2b[0][0]              \n",
            "__________________________________________________________________________________________________\n",
            "res5b_branch2c (Conv2D)         (None, 6, 6, 1024)   263168      activation_44[0][0]              \n",
            "__________________________________________________________________________________________________\n",
            "bn5b_branch2c (BatchNormalizati (None, 6, 6, 1024)   4096        res5b_branch2c[0][0]             \n",
            "__________________________________________________________________________________________________\n",
            "add_14 (Add)                    (None, 6, 6, 1024)   0           bn5b_branch2c[0][0]              \n",
            "                                                                 activation_42[0][0]              \n",
            "__________________________________________________________________________________________________\n",
            "activation_45 (Activation)      (None, 6, 6, 1024)   0           add_14[0][0]                     \n",
            "__________________________________________________________________________________________________\n",
            "res5c_branch2a (Conv2D)         (None, 6, 6, 256)    262400      activation_45[0][0]              \n",
            "__________________________________________________________________________________________________\n",
            "bn5c_branch2a (BatchNormalizati (None, 6, 6, 256)    1024        res5c_branch2a[0][0]             \n",
            "__________________________________________________________________________________________________\n",
            "activation_46 (Activation)      (None, 6, 6, 256)    0           bn5c_branch2a[0][0]              \n",
            "__________________________________________________________________________________________________\n",
            "res5c_branch2b (Conv2D)         (None, 6, 6, 256)    590080      activation_46[0][0]              \n",
            "__________________________________________________________________________________________________\n",
            "bn5c_branch2b (BatchNormalizati (None, 6, 6, 256)    1024        res5c_branch2b[0][0]             \n",
            "__________________________________________________________________________________________________\n",
            "activation_47 (Activation)      (None, 6, 6, 256)    0           bn5c_branch2b[0][0]              \n",
            "__________________________________________________________________________________________________\n",
            "res5c_branch2c (Conv2D)         (None, 6, 6, 1024)   263168      activation_47[0][0]              \n",
            "__________________________________________________________________________________________________\n",
            "bn5c_branch2c (BatchNormalizati (None, 6, 6, 1024)   4096        res5c_branch2c[0][0]             \n",
            "__________________________________________________________________________________________________\n",
            "add_15 (Add)                    (None, 6, 6, 1024)   0           bn5c_branch2c[0][0]              \n",
            "                                                                 activation_45[0][0]              \n",
            "__________________________________________________________________________________________________\n",
            "activation_48 (Activation)      (None, 6, 6, 1024)   0           add_15[0][0]                     \n",
            "__________________________________________________________________________________________________\n",
            "avg_pool (AveragePooling2D)     (None, 3, 3, 1024)   0           activation_48[0][0]              \n",
            "__________________________________________________________________________________________________\n",
            "flatten (Flatten)               (None, 9216)         0           avg_pool[0][0]                   \n",
            "__________________________________________________________________________________________________\n",
            "fc (Dense)                      (None, 1)            9217        flatten[0][0]                    \n",
            "==================================================================================================\n",
            "Total params: 5,941,697\n",
            "Trainable params: 5,915,137\n",
            "Non-trainable params: 26,560\n",
            "__________________________________________________________________________________________________\n"
          ],
          "name": "stdout"
        }
      ]
    },
    {
      "cell_type": "markdown",
      "metadata": {
        "id": "GjlMW6A5U-6D"
      },
      "source": [
        "## Model Evaluation for DPCNet"
      ]
    },
    {
      "cell_type": "code",
      "metadata": {
        "id": "QxiA-rKKU-6D",
        "outputId": "bbe2f3f4-a04e-4ebc-d1bc-5c95c260a6b9",
        "colab": {
          "base_uri": "https://localhost:8080/"
        }
      },
      "source": [
        "loss, mae, mse = CNN.evaluate(testImagesX, test_labels, verbose=0)\n",
        "print(\"Testing set Mean Square Error for {}: {:5.2f} \".format(NETWORK,mse))\n",
        "print(\"Testing set Root Mean Square Error for {}: {:5.2f} M_Earth\".format( NETWORK,np.sqrt(mse)))\n",
        "print(\"Testing set Mean Abs Error for {} : {:5.2f} M_Earth \".format(NETWORK,mae))\n",
        "print(\"Testing set Loss for {}: {:5.2f} M_Earth\".format(NETWORK,loss))"
      ],
      "execution_count": 13,
      "outputs": [
        {
          "output_type": "stream",
          "text": [
            "Testing set Mean Square Error for RESNET50: 86.23 \n",
            "Testing set Root Mean Square Error for RESNET50:  9.29 M_Earth\n",
            "Testing set Mean Abs Error for RESNET50 :  5.83 M_Earth \n",
            "Testing set Loss for RESNET50: 86.23 M_Earth\n"
          ],
          "name": "stdout"
        }
      ]
    },
    {
      "cell_type": "markdown",
      "metadata": {
        "id": "SZgGkAXcU-6D"
      },
      "source": [
        "## Implementing the hybrid model, i.e., DPCNet + DPNNet##"
      ]
    },
    {
      "cell_type": "code",
      "metadata": {
        "id": "9r_Br0eGU-6D"
      },
      "source": [
        "DPNNet = dm.DPNNet_build(normed_train_data.shape[1], regress=False)\n",
        "\n",
        "\n",
        "\n",
        "if NETWORK == \"Vanilla\":\n",
        "    CNN_ = dm.build_cnn(X_res, Y_res, 3, regress=False)\n",
        "elif NETWORK == \"ALEXNET\":\n",
        "    CNN_ = ocn.alexnet(X_res, Y_res, 3, regress=False)\n",
        "elif NETWORK == \"VGG\":\n",
        "    CNN_ = ocn.cnn_vgg(X_res, Y_res, 3, regress=False)\n",
        "elif NETWORK == \"RESNET50\":\n",
        "    CNN_ = ocn.ResNet50(X_res, Y_res, 3)\n",
        "\n",
        "combinedInput = concatenate([DPNNet.output,CNN_.output])\n",
        "# our final FC layer head will have two dense layers, the final one being our regression head\n",
        "x = Dense(4, activation=\"relu\")(combinedInput)\n",
        "x = Dense(1, activation=\"linear\")(x)\n",
        "\n"
      ],
      "execution_count": 14,
      "outputs": []
    },
    {
      "cell_type": "markdown",
      "metadata": {
        "id": "P0VSGgr5U-6D"
      },
      "source": [
        "## Training the Hybrid Model (DPCNet + DPNNet)"
      ]
    },
    {
      "cell_type": "code",
      "metadata": {
        "id": "grlWaDi_U-6D",
        "outputId": "f1b7bbe8-5f06-424e-b0af-ed16cae21290",
        "colab": {
          "base_uri": "https://localhost:8080/"
        }
      },
      "source": [
        "epochs=200 ## best was 100\n",
        "init_lr = 1e-4\n",
        "hybrid_model = Model(inputs=[DPNNet.input, CNN_.input], outputs=x)\n",
        "# optimizer = tf.keras.optimizers.Adam(lr_schedule)\n",
        "optimizer = tf.keras.optimizers.Adam(init_lr,decay=init_lr /200) #, \n",
        "hybrid_model.compile(loss='mean_squared_error',\n",
        "            optimizer=optimizer,\n",
        "            metrics=['mean_absolute_error', 'mean_squared_error'])\n",
        "print('INFO: Currently training using the {} NETWORK and DPNNet'.format(NETWORK))\n",
        "history_hybrid = hybrid_model.fit(x=[normed_train_data, trainImagesX], y=train_labels,\n",
        "    validation_split = 0.15,verbose=1,\n",
        "    epochs=epochs, batch_size=batch_size,callbacks=[early_stop])\n"
      ],
      "execution_count": 15,
      "outputs": [
        {
          "output_type": "stream",
          "text": [
            "INFO: Currently training using the RESNET50 NETWORK and DPNNet\n",
            "Epoch 1/200\n",
            "107/107 [==============================] - 8s 71ms/step - loss: 1702.3512 - mean_absolute_error: 32.3926 - mean_squared_error: 1702.3320 - val_loss: 5180.4722 - val_mean_absolute_error: 65.6514 - val_mean_squared_error: 5180.4536\n",
            "Epoch 2/200\n",
            "107/107 [==============================] - 7s 64ms/step - loss: 271.9387 - mean_absolute_error: 12.9137 - mean_squared_error: 271.9200 - val_loss: 4264.1602 - val_mean_absolute_error: 58.6740 - val_mean_squared_error: 4264.1421\n",
            "Epoch 3/200\n",
            "107/107 [==============================] - 7s 67ms/step - loss: 151.7847 - mean_absolute_error: 9.5326 - mean_squared_error: 151.7661 - val_loss: 2020.9904 - val_mean_absolute_error: 39.3759 - val_mean_squared_error: 2020.9720\n",
            "Epoch 4/200\n",
            "107/107 [==============================] - 7s 64ms/step - loss: 134.8526 - mean_absolute_error: 9.0636 - mean_squared_error: 134.8340 - val_loss: 395.1384 - val_mean_absolute_error: 16.2007 - val_mean_squared_error: 395.1197\n",
            "Epoch 5/200\n",
            "107/107 [==============================] - 7s 64ms/step - loss: 100.6969 - mean_absolute_error: 7.8049 - mean_squared_error: 100.6784 - val_loss: 332.3345 - val_mean_absolute_error: 14.8100 - val_mean_squared_error: 332.3161\n",
            "Epoch 6/200\n",
            "107/107 [==============================] - 7s 64ms/step - loss: 81.9633 - mean_absolute_error: 6.9626 - mean_squared_error: 81.9449 - val_loss: 205.4834 - val_mean_absolute_error: 11.5519 - val_mean_squared_error: 205.4649\n",
            "Epoch 7/200\n",
            "107/107 [==============================] - 7s 64ms/step - loss: 65.5440 - mean_absolute_error: 6.3274 - mean_squared_error: 65.5256 - val_loss: 120.1238 - val_mean_absolute_error: 8.6514 - val_mean_squared_error: 120.1054\n",
            "Epoch 8/200\n",
            "107/107 [==============================] - 7s 64ms/step - loss: 66.0226 - mean_absolute_error: 6.4468 - mean_squared_error: 66.0042 - val_loss: 91.3385 - val_mean_absolute_error: 7.2008 - val_mean_squared_error: 91.3201\n",
            "Epoch 9/200\n",
            "107/107 [==============================] - 7s 63ms/step - loss: 50.5478 - mean_absolute_error: 5.5093 - mean_squared_error: 50.5295 - val_loss: 95.0528 - val_mean_absolute_error: 7.5708 - val_mean_squared_error: 95.0344\n",
            "Epoch 10/200\n",
            "107/107 [==============================] - 7s 63ms/step - loss: 45.9235 - mean_absolute_error: 5.2594 - mean_squared_error: 45.9052 - val_loss: 109.2655 - val_mean_absolute_error: 7.8937 - val_mean_squared_error: 109.2471\n",
            "Epoch 11/200\n",
            "107/107 [==============================] - 7s 62ms/step - loss: 49.7379 - mean_absolute_error: 5.4719 - mean_squared_error: 49.7196 - val_loss: 129.6174 - val_mean_absolute_error: 8.6082 - val_mean_squared_error: 129.5991\n",
            "Epoch 12/200\n",
            "107/107 [==============================] - 7s 63ms/step - loss: 45.2022 - mean_absolute_error: 5.2380 - mean_squared_error: 45.1839 - val_loss: 174.7867 - val_mean_absolute_error: 10.5330 - val_mean_squared_error: 174.7685\n",
            "Epoch 13/200\n",
            "107/107 [==============================] - 7s 64ms/step - loss: 35.3392 - mean_absolute_error: 4.6034 - mean_squared_error: 35.3209 - val_loss: 85.3795 - val_mean_absolute_error: 6.7814 - val_mean_squared_error: 85.3612\n",
            "Epoch 14/200\n",
            "107/107 [==============================] - 7s 64ms/step - loss: 34.9203 - mean_absolute_error: 4.5737 - mean_squared_error: 34.9020 - val_loss: 76.7751 - val_mean_absolute_error: 6.5242 - val_mean_squared_error: 76.7569\n",
            "Epoch 15/200\n",
            "107/107 [==============================] - 7s 63ms/step - loss: 33.4263 - mean_absolute_error: 4.4946 - mean_squared_error: 33.4081 - val_loss: 88.7328 - val_mean_absolute_error: 7.3099 - val_mean_squared_error: 88.7146\n",
            "Epoch 16/200\n",
            "107/107 [==============================] - 7s 63ms/step - loss: 29.8314 - mean_absolute_error: 4.2469 - mean_squared_error: 29.8132 - val_loss: 94.5435 - val_mean_absolute_error: 7.2687 - val_mean_squared_error: 94.5253\n",
            "Epoch 17/200\n",
            "107/107 [==============================] - 7s 64ms/step - loss: 26.0174 - mean_absolute_error: 3.9335 - mean_squared_error: 25.9992 - val_loss: 74.4682 - val_mean_absolute_error: 6.2258 - val_mean_squared_error: 74.4500\n",
            "Epoch 18/200\n",
            "107/107 [==============================] - 7s 63ms/step - loss: 25.1254 - mean_absolute_error: 3.8016 - mean_squared_error: 25.1073 - val_loss: 89.1811 - val_mean_absolute_error: 7.2533 - val_mean_squared_error: 89.1630\n",
            "Epoch 19/200\n",
            "107/107 [==============================] - 7s 63ms/step - loss: 24.7540 - mean_absolute_error: 3.8191 - mean_squared_error: 24.7359 - val_loss: 98.2351 - val_mean_absolute_error: 7.5721 - val_mean_squared_error: 98.2170\n",
            "Epoch 20/200\n",
            "107/107 [==============================] - 7s 63ms/step - loss: 30.1129 - mean_absolute_error: 4.1615 - mean_squared_error: 30.0948 - val_loss: 103.3973 - val_mean_absolute_error: 7.6482 - val_mean_squared_error: 103.3792\n",
            "Epoch 21/200\n",
            "107/107 [==============================] - 7s 64ms/step - loss: 22.2033 - mean_absolute_error: 3.6181 - mean_squared_error: 22.1853 - val_loss: 63.7026 - val_mean_absolute_error: 5.9760 - val_mean_squared_error: 63.6845\n",
            "Epoch 22/200\n",
            "107/107 [==============================] - 7s 63ms/step - loss: 20.2238 - mean_absolute_error: 3.5206 - mean_squared_error: 20.2058 - val_loss: 98.5705 - val_mean_absolute_error: 7.7786 - val_mean_squared_error: 98.5525\n",
            "Epoch 23/200\n",
            "107/107 [==============================] - 7s 63ms/step - loss: 20.0580 - mean_absolute_error: 3.4780 - mean_squared_error: 20.0400 - val_loss: 69.1452 - val_mean_absolute_error: 6.0621 - val_mean_squared_error: 69.1272\n",
            "Epoch 24/200\n",
            "107/107 [==============================] - 7s 63ms/step - loss: 18.8396 - mean_absolute_error: 3.3695 - mean_squared_error: 18.8217 - val_loss: 139.8503 - val_mean_absolute_error: 9.0850 - val_mean_squared_error: 139.8323\n",
            "Epoch 25/200\n",
            "107/107 [==============================] - 7s 63ms/step - loss: 33.0509 - mean_absolute_error: 4.4742 - mean_squared_error: 33.0330 - val_loss: 112.7459 - val_mean_absolute_error: 8.2150 - val_mean_squared_error: 112.7280\n",
            "Epoch 26/200\n",
            "107/107 [==============================] - 7s 64ms/step - loss: 24.9690 - mean_absolute_error: 3.8505 - mean_squared_error: 24.9511 - val_loss: 60.7405 - val_mean_absolute_error: 5.5288 - val_mean_squared_error: 60.7227\n",
            "Epoch 27/200\n",
            "107/107 [==============================] - 7s 63ms/step - loss: 23.0984 - mean_absolute_error: 3.6802 - mean_squared_error: 23.0805 - val_loss: 138.9369 - val_mean_absolute_error: 9.2696 - val_mean_squared_error: 138.9191\n",
            "Epoch 28/200\n",
            "107/107 [==============================] - 7s 63ms/step - loss: 23.9732 - mean_absolute_error: 3.7361 - mean_squared_error: 23.9553 - val_loss: 76.8883 - val_mean_absolute_error: 6.7063 - val_mean_squared_error: 76.8705\n",
            "Epoch 29/200\n",
            "107/107 [==============================] - 7s 63ms/step - loss: 19.3572 - mean_absolute_error: 3.3498 - mean_squared_error: 19.3394 - val_loss: 75.0322 - val_mean_absolute_error: 6.3477 - val_mean_squared_error: 75.0144\n",
            "Epoch 30/200\n",
            "107/107 [==============================] - 7s 64ms/step - loss: 17.7978 - mean_absolute_error: 3.2096 - mean_squared_error: 17.7801 - val_loss: 56.0642 - val_mean_absolute_error: 5.1710 - val_mean_squared_error: 56.0465\n",
            "Epoch 31/200\n",
            "107/107 [==============================] - 7s 64ms/step - loss: 14.5647 - mean_absolute_error: 2.9087 - mean_squared_error: 14.5470 - val_loss: 55.7420 - val_mean_absolute_error: 5.1905 - val_mean_squared_error: 55.7244\n",
            "Epoch 32/200\n",
            "107/107 [==============================] - 7s 63ms/step - loss: 14.9591 - mean_absolute_error: 3.0143 - mean_squared_error: 14.9415 - val_loss: 64.7303 - val_mean_absolute_error: 5.8644 - val_mean_squared_error: 64.7127\n",
            "Epoch 33/200\n",
            "107/107 [==============================] - 7s 64ms/step - loss: 11.3693 - mean_absolute_error: 2.5930 - mean_squared_error: 11.3517 - val_loss: 53.3135 - val_mean_absolute_error: 4.9555 - val_mean_squared_error: 53.2959\n",
            "Epoch 34/200\n",
            "107/107 [==============================] - 7s 63ms/step - loss: 11.1248 - mean_absolute_error: 2.5280 - mean_squared_error: 11.1073 - val_loss: 67.2215 - val_mean_absolute_error: 5.9003 - val_mean_squared_error: 67.2039\n",
            "Epoch 35/200\n",
            "107/107 [==============================] - 7s 63ms/step - loss: 12.8954 - mean_absolute_error: 2.7097 - mean_squared_error: 12.8779 - val_loss: 63.7231 - val_mean_absolute_error: 5.5969 - val_mean_squared_error: 63.7056\n",
            "Epoch 36/200\n",
            "107/107 [==============================] - 7s 63ms/step - loss: 16.3660 - mean_absolute_error: 3.0786 - mean_squared_error: 16.3486 - val_loss: 68.2749 - val_mean_absolute_error: 6.0267 - val_mean_squared_error: 68.2575\n",
            "Epoch 37/200\n",
            "107/107 [==============================] - 7s 63ms/step - loss: 11.9037 - mean_absolute_error: 2.6621 - mean_squared_error: 11.8863 - val_loss: 64.8488 - val_mean_absolute_error: 5.8179 - val_mean_squared_error: 64.8314\n",
            "Epoch 38/200\n",
            "107/107 [==============================] - 7s 63ms/step - loss: 11.1510 - mean_absolute_error: 2.5285 - mean_squared_error: 11.1337 - val_loss: 120.8648 - val_mean_absolute_error: 8.5797 - val_mean_squared_error: 120.8475\n",
            "Epoch 39/200\n",
            "107/107 [==============================] - 7s 63ms/step - loss: 20.5700 - mean_absolute_error: 3.3991 - mean_squared_error: 20.5527 - val_loss: 59.2378 - val_mean_absolute_error: 5.3204 - val_mean_squared_error: 59.2205\n",
            "Epoch 40/200\n",
            "107/107 [==============================] - 7s 63ms/step - loss: 24.4260 - mean_absolute_error: 3.7396 - mean_squared_error: 24.4088 - val_loss: 86.8389 - val_mean_absolute_error: 6.9427 - val_mean_squared_error: 86.8218\n",
            "Epoch 41/200\n",
            "107/107 [==============================] - 7s 63ms/step - loss: 20.8258 - mean_absolute_error: 3.4880 - mean_squared_error: 20.8086 - val_loss: 69.7864 - val_mean_absolute_error: 6.3681 - val_mean_squared_error: 69.7692\n",
            "Epoch 42/200\n",
            "107/107 [==============================] - 7s 63ms/step - loss: 15.6967 - mean_absolute_error: 3.0460 - mean_squared_error: 15.6797 - val_loss: 68.6577 - val_mean_absolute_error: 6.1851 - val_mean_squared_error: 68.6406\n",
            "Epoch 43/200\n",
            "107/107 [==============================] - 7s 63ms/step - loss: 11.9745 - mean_absolute_error: 2.6419 - mean_squared_error: 11.9575 - val_loss: 59.1770 - val_mean_absolute_error: 5.4939 - val_mean_squared_error: 59.1600\n",
            "Epoch 44/200\n",
            "107/107 [==============================] - 7s 63ms/step - loss: 9.9156 - mean_absolute_error: 2.4160 - mean_squared_error: 9.8986 - val_loss: 136.3807 - val_mean_absolute_error: 9.5159 - val_mean_squared_error: 136.3638\n",
            "Epoch 45/200\n",
            "107/107 [==============================] - 7s 63ms/step - loss: 12.8829 - mean_absolute_error: 2.7400 - mean_squared_error: 12.8660 - val_loss: 54.3454 - val_mean_absolute_error: 5.0619 - val_mean_squared_error: 54.3285\n",
            "Epoch 46/200\n",
            "107/107 [==============================] - 7s 63ms/step - loss: 21.8302 - mean_absolute_error: 3.4952 - mean_squared_error: 21.8134 - val_loss: 85.7898 - val_mean_absolute_error: 6.7631 - val_mean_squared_error: 85.7730\n",
            "Epoch 47/200\n",
            "107/107 [==============================] - 7s 63ms/step - loss: 15.0596 - mean_absolute_error: 2.9794 - mean_squared_error: 15.0429 - val_loss: 64.4271 - val_mean_absolute_error: 5.7461 - val_mean_squared_error: 64.4104\n",
            "Epoch 48/200\n",
            "107/107 [==============================] - 7s 63ms/step - loss: 15.9641 - mean_absolute_error: 3.0369 - mean_squared_error: 15.9475 - val_loss: 82.9837 - val_mean_absolute_error: 6.5388 - val_mean_squared_error: 82.9671\n",
            "Epoch 49/200\n",
            "107/107 [==============================] - 7s 63ms/step - loss: 16.6414 - mean_absolute_error: 3.1430 - mean_squared_error: 16.6248 - val_loss: 83.5236 - val_mean_absolute_error: 7.0599 - val_mean_squared_error: 83.5071\n",
            "Epoch 50/200\n",
            "107/107 [==============================] - 7s 63ms/step - loss: 15.1981 - mean_absolute_error: 2.9305 - mean_squared_error: 15.1816 - val_loss: 87.0251 - val_mean_absolute_error: 6.8557 - val_mean_squared_error: 87.0087\n",
            "Epoch 51/200\n",
            "107/107 [==============================] - 7s 63ms/step - loss: 13.2029 - mean_absolute_error: 2.6406 - mean_squared_error: 13.1865 - val_loss: 94.0883 - val_mean_absolute_error: 7.5196 - val_mean_squared_error: 94.0720\n",
            "Epoch 52/200\n",
            "107/107 [==============================] - 7s 63ms/step - loss: 20.7936 - mean_absolute_error: 3.4163 - mean_squared_error: 20.7773 - val_loss: 110.0665 - val_mean_absolute_error: 8.0709 - val_mean_squared_error: 110.0502\n",
            "Epoch 53/200\n",
            "106/107 [============================>.] - ETA: 0s - loss: 14.2446 - mean_absolute_error: 2.8703 - mean_squared_error: 14.2284Restoring model weights from the end of the best epoch.\n",
            "107/107 [==============================] - 7s 64ms/step - loss: 14.2393 - mean_absolute_error: 2.8707 - mean_squared_error: 14.2230 - val_loss: 93.4095 - val_mean_absolute_error: 7.1624 - val_mean_squared_error: 93.3933\n",
            "Epoch 00053: early stopping\n"
          ],
          "name": "stdout"
        }
      ]
    },
    {
      "cell_type": "code",
      "metadata": {
        "id": "BXOgQmOpU-6D",
        "outputId": "52ebe506-3933-4486-b3f1-6f22146c01bf",
        "colab": {
          "base_uri": "https://localhost:8080/",
          "height": 731
        }
      },
      "source": [
        "dp.plot_history(history_hybrid,path, Model = \"Hybrid\")\n",
        "hist_hybrid = pd.DataFrame(history_hybrid.history) \n",
        "hist_hybrid.to_csv(path+'data_folder/'+NETWORK+'history_hybrid.csv')"
      ],
      "execution_count": 16,
      "outputs": [
        {
          "output_type": "stream",
          "text": [
            "/content/drive/MyDrive/CNN_DPNNET/DPCNET_dev/figures\n"
          ],
          "name": "stdout"
        },
        {
          "output_type": "display_data",
          "data": {
            "image/png": "[encoded data removed]",
            "text/plain": [
              "<Figure size 360x360 with 1 Axes>"
            ]
          },
          "metadata": {
            "tags": [],
            "needs_background": "light"
          }
        },
        {
          "output_type": "display_data",
          "data": {
            "image/png": "[encoded data removed]",
            "text/plain": [
              "<Figure size 360x360 with 1 Axes>"
            ]
          },
          "metadata": {
            "tags": [],
            "needs_background": "light"
          }
        }
      ]
    },
    {
      "cell_type": "code",
      "metadata": {
        "id": "tdklJuAVU-6E",
        "outputId": "9c5e48af-52fb-459c-e96c-a941eb6acb09",
        "colab": {
          "base_uri": "https://localhost:8080/"
        }
      },
      "source": [
        "\n",
        "hybrid_model.save(path+'saved_model/'+NETWORK+'_hybrid_model') \n",
        "# hybrid_model = tf.keras.models.load_model(path+'saved_model/'+NETWORK+'hybrid_model')"
      ],
      "execution_count": 17,
      "outputs": [
        {
          "output_type": "stream",
          "text": [
            "INFO:tensorflow:Assets written to: /content/drive/MyDrive/CNN_DPNNET/DPCNET_dev/saved_model/RESNET50_hybrid_model/assets\n"
          ],
          "name": "stdout"
        }
      ]
    },
    {
      "cell_type": "markdown",
      "metadata": {
        "id": "Xz9hTCVpU-6E"
      },
      "source": [
        "## Model Evaluation for Hybrid Model"
      ]
    },
    {
      "cell_type": "code",
      "metadata": {
        "id": "wpSf9KsqU-6E",
        "outputId": "2edd692a-db28-4693-9bd5-8529d1a71eac",
        "colab": {
          "base_uri": "https://localhost:8080/"
        }
      },
      "source": [
        "loss, mae, mse = hybrid_model.evaluate([normed_test_data,testImagesX], test_labels, verbose=0)\n",
        "print(\"Testing set Mean Square Error for {} with DPNNet: {:5.2f} \".format(NETWORK,mse))\n",
        "print(\"Testing set Root Mean Square Error for {} with DPNNet: {:5.2f} M_Earth\".format( NETWORK,np.sqrt(mse)))\n",
        "print(\"Testing set Mean Abs Error for {} with DPNNet: {:5.2f} M_Earth \".format(NETWORK,mae))\n",
        "print(\"Testing set Loss for {} with DPNNet: {:5.2f} M_Earth\".format(NETWORK,loss))"
      ],
      "execution_count": 18,
      "outputs": [
        {
          "output_type": "stream",
          "text": [
            "Testing set Mean Square Error for RESNET50 with DPNNet: 67.59 \n",
            "Testing set Root Mean Square Error for RESNET50 with DPNNet:  8.22 M_Earth\n",
            "Testing set Mean Abs Error for RESNET50 with DPNNet:  5.18 M_Earth \n",
            "Testing set Loss for RESNET50 with DPNNet: 67.61 M_Earth\n"
          ],
          "name": "stdout"
        }
      ]
    },
    {
      "cell_type": "markdown",
      "metadata": {
        "id": "GNJ9EL45U-6E"
      },
      "source": [
        "## Model Predictions and Results"
      ]
    },
    {
      "cell_type": "code",
      "metadata": {
        "id": "UWW-yJoDU-6E",
        "outputId": "d37cf4b2-fde7-4354-edc6-a9e0d8a08b3e",
        "colab": {
          "base_uri": "https://localhost:8080/"
        }
      },
      "source": [
        "pred_CNN = CNN.predict(testImagesX)\n",
        "np.shape(pred_CNN)\n",
        "\n",
        "pred_Hybird = hybrid_model.predict([normed_test_data,testImagesX])\n",
        "np.shape(pred_Hybird)"
      ],
      "execution_count": 19,
      "outputs": [
        {
          "output_type": "execute_result",
          "data": {
            "text/plain": [
              "(442, 1)"
            ]
          },
          "metadata": {
            "tags": []
          },
          "execution_count": 19
        }
      ]
    },
    {
      "cell_type": "code",
      "metadata": {
        "id": "wJUHfl8vU-6E",
        "outputId": "7c45a533-b5d9-4fa3-9579-65940041e06b",
        "colab": {
          "base_uri": "https://localhost:8080/",
          "height": 802
        }
      },
      "source": [
        "plt.style.use('classic')\n",
        "plt.figure(figsize = (5,5))\n",
        "# test_predictions = model.predict(normed_test_data).flatten()\n",
        "plt.scatter(test_labels,pred_CNN.flatten(),s=30,marker='d',color='r')\n",
        "\n",
        "score_CNN = r2_score(test_labels,pred_CNN.flatten())\n",
        "plt.text(20,110,r\" r2 = {:.3f}\".format(score_CNN), fontsize =14)\n",
        "plt.xlabel(r'True values of planet mass($M_\\oplus$)', fontsize=15)\n",
        "plt.ylabel(r'Predicted planet mass($M_\\oplus$)',fontsize=15)\n",
        "plt.title(\"DPCNet Prediction\")\n",
        "plt.axis('equal')\n",
        "plt.axis('square')\n",
        "plt.xlim(5,125)\n",
        "plt.ylim(5,125)\n",
        "\n",
        "# plt.xlim([0.6,plt.xlim()[1]])\n",
        "# plt.ylim([0.6,plt.xlim()[1]])\n",
        "_ = plt.plot([0, 120], [0, 120],linewidth=2)\n",
        "plt.minorticks_on() \n",
        "plt.tight_layout()\n",
        "plt.savefig(path+'figures/predicted_correlation_CNN.pdf',format='pdf',dpi=300)\n",
        "\n",
        "plt.tick_params(labelsize=15)\n",
        "\n",
        "plt.tick_params(axis='both', which='major',length=6, width=2)\n",
        "plt.tick_params(axis='both', which='minor',length=3, width=1.3)\n",
        "plt.figure(figsize = (5,5))\n",
        "score_HYBRID = r2_score(test_labels,pred_Hybird.flatten())\n",
        "plt.text(20,110,r\"r2 = {:.3f}\".format(score_HYBRID),fontsize =14)\n",
        "plt.scatter(test_labels,pred_Hybird.flatten(),s=20,marker='d',color='r')\n",
        "plt.title(\"Hybrid Prediction\")\n",
        "plt.xlabel(r'True values of planet mass($M_\\oplus$)', fontsize=15)\n",
        "plt.ylabel(r'Predicted planet mass($M_\\oplus$)',fontsize=15)\n",
        "plt.axis('equal')\n",
        "plt.axis('square')\n",
        "plt.xlim(5,125)\n",
        "plt.ylim(5,125)\n",
        "\n",
        "# plt.xlim([0.6,plt.xlim()[1]])\n",
        "# plt.ylim([0.6,plt.xlim()[1]])\n",
        "_ = plt.plot([0, 120], [0, 120],linewidth=2)\n",
        "\n",
        "plt.minorticks_on() \n",
        "plt.tick_params(labelsize=15)\n",
        "plt.tick_params(axis='both', which='major',length=6, width=2)\n",
        "plt.tick_params(axis='both', which='minor',length=3, width=1.3)\n",
        "plt.tight_layout()\n",
        "plt.savefig(path+'figures/predicted_correlation_hybrid.pdf',format='pdf',dpi=300)\n",
        "# print(\"{} r2 score is {}\".format(NETWORK,score_CNN))\n",
        "# print(\"{} + DPPNET r2 score is {}\".format(NETWORK,score_HYBRID))"
      ],
      "execution_count": 20,
      "outputs": [
        {
          "output_type": "display_data",
          "data": {
            "image/png": "[encoded data removed]",
            "text/plain": [
              "<Figure size 400x400 with 1 Axes>"
            ]
          },
          "metadata": {
            "tags": []
          }
        },
        {
          "output_type": "display_data",
          "data": {
            "image/png": "[encoded data removed]",
            "text/plain": [
              "<Figure size 400x400 with 1 Axes>"
            ]
          },
          "metadata": {
            "tags": []
          }
        }
      ]
    },
    {
      "cell_type": "code",
      "metadata": {
        "id": "g804Rdt8U-6E"
      },
      "source": [
        ""
      ],
      "execution_count": 20,
      "outputs": []
    }
  ]
}